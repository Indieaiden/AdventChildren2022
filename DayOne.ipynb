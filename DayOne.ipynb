{
  "nbformat": 4,
  "nbformat_minor": 0,
  "metadata": {
    "colab": {
      "provenance": [],
      "toc_visible": true,
      "name": "DayOne.ipynb",
      "authorship_tag": "ABX9TyMLhMSEGGa6cjGBjmgUjQcX",
      "include_colab_link": true
    },
    "kernelspec": {
      "name": "python3",
      "display_name": "Python 3"
    },
    "language_info": {
      "name": "python"
    }
  },
  "cells": [
    {
      "cell_type": "markdown",
      "metadata": {
        "id": "view-in-github",
        "colab_type": "text"
      },
      "source": [
        "<a href=\"https://colab.research.google.com/github/Indieaiden/AdventChildren2022/blob/main/DayOne.ipynb\" target=\"_parent\"><img src=\"https://colab.research.google.com/assets/colab-badge.svg\" alt=\"Open In Colab\"/></a>"
      ]
    },
    {
      "cell_type": "markdown",
      "source": [
        "Primero habrá que instalar las movidas instalables, digoyó"
      ],
      "metadata": {
        "id": "w4Eryv4sWhzx"
      }
    },
    {
      "cell_type": "code",
      "execution_count": 4,
      "metadata": {
        "colab": {
          "base_uri": "https://localhost:8080/"
        },
        "id": "rRbi2ddNI5dp",
        "outputId": "c7a7004a-4a15-4934-e3ab-97605dc0a4d8"
      },
      "outputs": [
        {
          "output_type": "stream",
          "name": "stdout",
          "text": [
            "Looking in indexes: https://pypi.org/simple, https://us-python.pkg.dev/colab-wheels/public/simple/\n",
            "Collecting advent-of-code-data\n",
            "  Downloading advent_of_code_data-1.3.1-py2.py3-none-any.whl (25 kB)\n",
            "Requirement already satisfied: beautifulsoup4 in /usr/local/lib/python3.8/dist-packages (from advent-of-code-data) (4.6.3)\n",
            "Collecting pebble\n",
            "  Downloading Pebble-5.0.3-py3-none-any.whl (30 kB)\n",
            "Requirement already satisfied: requests in /usr/local/lib/python3.8/dist-packages (from advent-of-code-data) (2.23.0)\n",
            "Requirement already satisfied: termcolor in /usr/local/lib/python3.8/dist-packages (from advent-of-code-data) (2.1.1)\n",
            "Requirement already satisfied: python-dateutil in /usr/local/lib/python3.8/dist-packages (from advent-of-code-data) (2.8.2)\n",
            "Requirement already satisfied: tzlocal in /usr/local/lib/python3.8/dist-packages (from advent-of-code-data) (1.5.1)\n",
            "Requirement already satisfied: six>=1.5 in /usr/local/lib/python3.8/dist-packages (from python-dateutil->advent-of-code-data) (1.15.0)\n",
            "Requirement already satisfied: chardet<4,>=3.0.2 in /usr/local/lib/python3.8/dist-packages (from requests->advent-of-code-data) (3.0.4)\n",
            "Requirement already satisfied: urllib3!=1.25.0,!=1.25.1,<1.26,>=1.21.1 in /usr/local/lib/python3.8/dist-packages (from requests->advent-of-code-data) (1.24.3)\n",
            "Requirement already satisfied: idna<3,>=2.5 in /usr/local/lib/python3.8/dist-packages (from requests->advent-of-code-data) (2.10)\n",
            "Requirement already satisfied: certifi>=2017.4.17 in /usr/local/lib/python3.8/dist-packages (from requests->advent-of-code-data) (2022.9.24)\n",
            "Requirement already satisfied: pytz in /usr/local/lib/python3.8/dist-packages (from tzlocal->advent-of-code-data) (2022.6)\n",
            "Installing collected packages: pebble, advent-of-code-data\n",
            "Successfully installed advent-of-code-data-1.3.1 pebble-5.0.3\n"
          ]
        }
      ],
      "source": [
        "pip install advent-of-code-data"
      ]
    },
    {
      "cell_type": "markdown",
      "source": [
        "This list represents the Calories of the food carried by five Elves:\n",
        "\n",
        "    The first Elf is carrying food with 1000, 2000, and 3000 Calories, a total of 6000 Calories.\n",
        "    The second Elf is carrying one food item with 4000 Calories.\n",
        "    The third Elf is carrying food with 5000 and 6000 Calories, a total of 11000 Calories.\n",
        "    The fourth Elf is carrying food with 7000, 8000, and 9000 Calories, a total of 24000 Calories.\n",
        "    The fifth Elf is carrying one food item with 10000 Calories.\n",
        "\n",
        "In case the Elves get hungry and need extra snacks, they need to know which Elf to ask: they'd like to know how many Calories are being carried by the Elf carrying the most Calories. In the example above, this is 24000 (carried by the fourth Elf).\n",
        "\n",
        "Find the Elf carrying the most Calories. How many total Calories is that Elf carrying?"
      ],
      "metadata": {
        "id": "SV4fgZ7wWl9e"
      }
    },
    {
      "cell_type": "code",
      "source": [
        "#Part ONE\n",
        "\n",
        "import aocd\n",
        "import os \n",
        "\n",
        "cookie = \"53616c7465645f5f68edfa14f2c4171a0bf546d8ac5c42ac7a69b3c5a507e11e956cc6153f72eabcef5ccfb54c750c3225b6df0c07cae6c37a963db73c6e5021\"\n",
        "\n",
        "\n",
        "def main():\n",
        "  os.environ[\"AOC_SESSION\"] = cookie\n",
        "  data = aocd.get_data(day=1, year=2022)\n",
        "\n",
        "  #Part One\n",
        "  most = part_One(data)\n",
        "  print(f\"The elf carrying most calories carries: {most}\")\n",
        "  \n",
        "  #Part Two\n",
        "  three_most = part_Two(data)\n",
        "  most = sum(list(map(int, three_most)))\n",
        "  print(f\"The total calories carried for the three tops is: {most}\")\n",
        "\n",
        "\n",
        "def part_One(data):\n",
        "  spl_data = data.split(\"\\n\\n\")\n",
        "  total = 0\n",
        "  aux = 0\n",
        "  for elf in spl_data:\n",
        "    bar = elf.split(\"\\n\")\n",
        "    aux = sum(list(map(int,bar)))\n",
        "    if(total <= aux):\n",
        "        total = aux\n",
        "  return total\n",
        "\n",
        "def part_Two(data):\n",
        "  spl_data = data.split(\"\\n\\n\")\n",
        "  three_total = [1, 2, 3]\n",
        "  aux = 0\n",
        "  for elf in spl_data:\n",
        "    bar = elf.split(\"\\n\")\n",
        "    aux = sum(list(map(int,bar)))\n",
        "    for i in range(len(three_total)):\n",
        "      if(three_total[i] < aux):\n",
        "        three_total[i] = aux\n",
        "        break\n",
        "  return three_total\n",
        "  \n",
        "if __name__ == \"__main__\":\n",
        "  main()"
      ],
      "metadata": {
        "colab": {
          "base_uri": "https://localhost:8080/"
        },
        "id": "q_z21RDRJdHR",
        "outputId": "9d093e03-bdca-436c-ce97-49c5b02582ad"
      },
      "execution_count": 20,
      "outputs": [
        {
          "output_type": "stream",
          "name": "stdout",
          "text": [
            "The elf carrying most calories carries: 70613\n",
            "The total calories carried for the three tops is: 204882\n"
          ]
        }
      ]
    },
    {
      "cell_type": "markdown",
      "source": [
        "--- Part Two ---\n",
        "\n",
        "By the time you calculate the answer to the Elves' question, they've already realized that the Elf carrying the most Calories of food might eventually run out of snacks.\n",
        "\n",
        "To avoid this unacceptable situation, the Elves would instead like to know the total Calories carried by the top three Elves carrying the most Calories. That way, even if one of those Elves runs out of snacks, they still have two backups.\n",
        "\n",
        "In the example above, the top three Elves are the fourth Elf (with 24000 Calories), then the third Elf (with 11000 Calories), then the fifth Elf (with 10000 Calories). The sum of the Calories carried by these three elves is 45000.\n",
        "\n",
        "Find the top three Elves carrying the most Calories. How many Calories are those Elves carrying in total?\n"
      ],
      "metadata": {
        "id": "GNI1laoeXbUr"
      }
    }
  ]
}