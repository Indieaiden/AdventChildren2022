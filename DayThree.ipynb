{
  "nbformat": 4,
  "nbformat_minor": 0,
  "metadata": {
    "colab": {
      "provenance": [],
      "toc_visible": true,
      "name": "DayThree.ipynb",
      "authorship_tag": "ABX9TyMjQDQq3yXh5KscJXo2QHg7",
      "include_colab_link": true
    },
    "kernelspec": {
      "name": "python3",
      "display_name": "Python 3"
    },
    "language_info": {
      "name": "python"
    }
  },
  "cells": [
    {
      "cell_type": "markdown",
      "metadata": {
        "id": "view-in-github",
        "colab_type": "text"
      },
      "source": [
        "<a href=\"https://colab.research.google.com/github/Indieaiden/AdventChildren2022/blob/main/DayThree.ipynb\" target=\"_parent\"><img src=\"https://colab.research.google.com/assets/colab-badge.svg\" alt=\"Open In Colab\"/></a>"
      ]
    },
    {
      "cell_type": "markdown",
      "source": [
        "Primero habrá que instalar las movidas instalables, digoyó"
      ],
      "metadata": {
        "id": "w4Eryv4sWhzx"
      }
    },
    {
      "cell_type": "code",
      "execution_count": 1,
      "metadata": {
        "colab": {
          "base_uri": "https://localhost:8080/"
        },
        "id": "rRbi2ddNI5dp",
        "outputId": "888e11b9-3ae9-444f-cc20-35ee309add77"
      },
      "outputs": [
        {
          "output_type": "stream",
          "name": "stdout",
          "text": [
            "Looking in indexes: https://pypi.org/simple, https://us-python.pkg.dev/colab-wheels/public/simple/\n",
            "Collecting advent-of-code-data\n",
            "  Downloading advent_of_code_data-1.3.1-py2.py3-none-any.whl (25 kB)\n",
            "Requirement already satisfied: tzlocal in /usr/local/lib/python3.8/dist-packages (from advent-of-code-data) (1.5.1)\n",
            "Requirement already satisfied: python-dateutil in /usr/local/lib/python3.8/dist-packages (from advent-of-code-data) (2.8.2)\n",
            "Requirement already satisfied: beautifulsoup4 in /usr/local/lib/python3.8/dist-packages (from advent-of-code-data) (4.6.3)\n",
            "Requirement already satisfied: requests in /usr/local/lib/python3.8/dist-packages (from advent-of-code-data) (2.23.0)\n",
            "Requirement already satisfied: termcolor in /usr/local/lib/python3.8/dist-packages (from advent-of-code-data) (2.1.1)\n",
            "Collecting pebble\n",
            "  Downloading Pebble-5.0.3-py3-none-any.whl (30 kB)\n",
            "Requirement already satisfied: six>=1.5 in /usr/local/lib/python3.8/dist-packages (from python-dateutil->advent-of-code-data) (1.15.0)\n",
            "Requirement already satisfied: chardet<4,>=3.0.2 in /usr/local/lib/python3.8/dist-packages (from requests->advent-of-code-data) (3.0.4)\n",
            "Requirement already satisfied: idna<3,>=2.5 in /usr/local/lib/python3.8/dist-packages (from requests->advent-of-code-data) (2.10)\n",
            "Requirement already satisfied: certifi>=2017.4.17 in /usr/local/lib/python3.8/dist-packages (from requests->advent-of-code-data) (2022.9.24)\n",
            "Requirement already satisfied: urllib3!=1.25.0,!=1.25.1,<1.26,>=1.21.1 in /usr/local/lib/python3.8/dist-packages (from requests->advent-of-code-data) (1.24.3)\n",
            "Requirement already satisfied: pytz in /usr/local/lib/python3.8/dist-packages (from tzlocal->advent-of-code-data) (2022.6)\n",
            "Installing collected packages: pebble, advent-of-code-data\n",
            "Successfully installed advent-of-code-data-1.3.1 pebble-5.0.3\n"
          ]
        }
      ],
      "source": [
        "pip install advent-of-code-data"
      ]
    },
    {
      "cell_type": "markdown",
      "source": [
        "--- Day 3: Rucksack Reorganization ---\n",
        "\n",
        "One Elf has the important job of loading all of the rucksacks with supplies for the jungle journey. Unfortunately, that Elf didn't quite follow the packing instructions, and so a few items now need to be rearranged.\n",
        "\n",
        "Each rucksack has two large compartments. All items of a given type are meant to go into exactly one of the two compartments. The Elf that did the packing failed to follow this rule for exactly one item type per rucksack.\n",
        "\n",
        "The Elves have made a list of all of the items currently in each rucksack (your puzzle input), but they need your help finding the errors. Every item type is identified by a single lowercase or uppercase letter (that is, a and A refer to different types of items).\n",
        "\n",
        "The list of items for each rucksack is given as characters all on a single line. A given rucksack always has the same number of items in each of its two compartments, so the first half of the characters represent items in the first compartment, while the second half of the characters represent items in the second compartment.\n",
        "\n",
        "For example, suppose you have the following list of contents from six rucksacks:\n",
        "\n",
        "vJrwpWtwJgWrhcsFMMfFFhFp\n",
        "jqHRNqRjqzjGDLGLrsFMfFZSrLrFZsSL\n",
        "PmmdzqPrVvPwwTWBwg\n",
        "wMqvLMZHhHMvwLHjbvcjnnSBnvTQFn\n",
        "ttgJtRGJQctTZtZT\n",
        "CrZsJsPPZsGzwwsLwLmpwMDw\n",
        "\n",
        "    The first rucksack contains the items vJrwpWtwJgWrhcsFMMfFFhFp, which means its first compartment contains the items vJrwpWtwJgWr, while the second compartment contains the items hcsFMMfFFhFp. The only item type that appears in both compartments is lowercase p.\n",
        "    The second rucksack's compartments contain jqHRNqRjqzjGDLGL and rsFMfFZSrLrFZsSL. The only item type that appears in both compartments is uppercase L.\n",
        "    The third rucksack's compartments contain PmmdzqPrV and vPwwTWBwg; the only common item type is uppercase P.\n",
        "    The fourth rucksack's compartments only share item type v.\n",
        "    The fifth rucksack's compartments only share item type t.\n",
        "    The sixth rucksack's compartments only share item type s.\n",
        "\n",
        "To help prioritize item rearrangement, every item type can be converted to a priority:\n",
        "\n",
        "    Lowercase item types a through z have priorities 1 through 26.\n",
        "    Uppercase item types A through Z have priorities 27 through 52.\n",
        "\n",
        "In the above example, the priority of the item type that appears in both compartments of each rucksack is 16 (p), 38 (L), 42 (P), 22 (v), 20 (t), and 19 (s); the sum of these is 157.\n",
        "\n",
        "Find the item type that appears in both compartments of each rucksack. What is the sum of the priorities of those item types?\n"
      ],
      "metadata": {
        "id": "SV4fgZ7wWl9e"
      }
    },
    {
      "cell_type": "code",
      "source": [
        "#Part ONE\n",
        "\n",
        "import aocd\n",
        "import os\n",
        "import itertools\n",
        "\n",
        "cookie = \"\"\n",
        "\n",
        "\n",
        "def main():\n",
        "  os.environ[\"AOC_SESSION\"] = cookie\n",
        "  data = aocd.get_data(day=3, year=2022)\n",
        "\n",
        "  #Part One\n",
        "  score = part_One(data)\n",
        "  print(f\"The total score is: {score}\")\n",
        "  \n",
        "  #Part Two\n",
        "  score = part_Two(data)\n",
        "  print(f\"The total second part score is: {score}\")\n",
        "\n",
        "def part_One(data):\n",
        "  # Value of A is 65 -> -38 to mayus\n",
        "  # Value of a is 97 -> -96 to minus\n",
        "  total_score = 0\n",
        "  split_items = data.split(\"\\n\")\n",
        "  first = split_items[0]\n",
        "  \n",
        "  dupe = findDupe(first)\n",
        "  value = calcScore(dupe)\n",
        "  print(first)\n",
        "  print(dupe)\n",
        "  print(value)\n",
        "\n",
        "  for i in range(len(split_items)):\n",
        "    dupe = findDupe(split_items[i])\n",
        "    total_score += calcScore(dupe)\n",
        "\n",
        "  return total_score\n",
        "\n",
        "def findDupe(items):\n",
        "  s1 = items[:len(items)//2]\n",
        "  s2 = items[len(items)//2:]\n",
        "  ss1 = sorted(s1)\n",
        "  ss2 = sorted(s2)\n",
        "  dupe = ''\n",
        "  last_char = ''\n",
        "  for character in ss1:\n",
        "    if last_char == character:\n",
        "      pass\n",
        "    if character in ss2:\n",
        "      dupe = character\n",
        "      break\n",
        "    else:\n",
        "      dupe = '?'\n",
        "    last_char = character\n",
        "  return dupe\n",
        "\n",
        "def calcScore(dupe):\n",
        "  value = ord(dupe)\n",
        "  if value >= ord('A') and value <= ord('Z'):\n",
        "    value -= 38\n",
        "  if value >= ord('a') and value <= ord('z'):\n",
        "    value -= 96\n",
        "  return value\n",
        "\n",
        "if __name__ == \"__main__\":\n",
        "  main()"
      ],
      "metadata": {
        "colab": {
          "base_uri": "https://localhost:8080/",
          "height": 479
        },
        "id": "q_z21RDRJdHR",
        "outputId": "0cb80ae7-851b-4965-dd87-144c5de2b108"
      },
      "execution_count": 77,
      "outputs": [
        {
          "output_type": "stream",
          "name": "stderr",
          "text": [
            "ERROR: AoC session ID is needed to get your puzzle data!\n",
            "You can find it in your browser cookies after login.\n",
            "    1) Save the cookie into a text file /root/.config/aocd/token, or\n",
            "    2) Export the cookie in environment variable AOC_SESSION\n",
            "\n",
            "See https://github.com/wimglenn/advent-of-code-wim/issues/1 for more info.\n",
            "\n"
          ]
        },
        {
          "output_type": "error",
          "ename": "AocdError",
          "evalue": "ignored",
          "traceback": [
            "\u001b[0;31m---------------------------------------------------------------------------\u001b[0m",
            "\u001b[0;31mAocdError\u001b[0m                                 Traceback (most recent call last)",
            "\u001b[0;32m<ipython-input-77-f6d4b56eae4a>\u001b[0m in \u001b[0;36m<module>\u001b[0;34m\u001b[0m\n\u001b[1;32m     66\u001b[0m \u001b[0;34m\u001b[0m\u001b[0m\n\u001b[1;32m     67\u001b[0m \u001b[0;32mif\u001b[0m \u001b[0m__name__\u001b[0m \u001b[0;34m==\u001b[0m \u001b[0;34m\"__main__\"\u001b[0m\u001b[0;34m:\u001b[0m\u001b[0;34m\u001b[0m\u001b[0;34m\u001b[0m\u001b[0m\n\u001b[0;32m---> 68\u001b[0;31m   \u001b[0mmain\u001b[0m\u001b[0;34m(\u001b[0m\u001b[0;34m)\u001b[0m\u001b[0;34m\u001b[0m\u001b[0;34m\u001b[0m\u001b[0m\n\u001b[0m",
            "\u001b[0;32m<ipython-input-77-f6d4b56eae4a>\u001b[0m in \u001b[0;36mmain\u001b[0;34m()\u001b[0m\n\u001b[1;32m     10\u001b[0m \u001b[0;32mdef\u001b[0m \u001b[0mmain\u001b[0m\u001b[0;34m(\u001b[0m\u001b[0;34m)\u001b[0m\u001b[0;34m:\u001b[0m\u001b[0;34m\u001b[0m\u001b[0;34m\u001b[0m\u001b[0m\n\u001b[1;32m     11\u001b[0m   \u001b[0mos\u001b[0m\u001b[0;34m.\u001b[0m\u001b[0menviron\u001b[0m\u001b[0;34m[\u001b[0m\u001b[0;34m\"AOC_SESSION\"\u001b[0m\u001b[0;34m]\u001b[0m \u001b[0;34m=\u001b[0m \u001b[0mcookie\u001b[0m\u001b[0;34m\u001b[0m\u001b[0;34m\u001b[0m\u001b[0m\n\u001b[0;32m---> 12\u001b[0;31m   \u001b[0mdata\u001b[0m \u001b[0;34m=\u001b[0m \u001b[0maocd\u001b[0m\u001b[0;34m.\u001b[0m\u001b[0mget_data\u001b[0m\u001b[0;34m(\u001b[0m\u001b[0mday\u001b[0m\u001b[0;34m=\u001b[0m\u001b[0;36m3\u001b[0m\u001b[0;34m,\u001b[0m \u001b[0myear\u001b[0m\u001b[0;34m=\u001b[0m\u001b[0;36m2022\u001b[0m\u001b[0;34m)\u001b[0m\u001b[0;34m\u001b[0m\u001b[0;34m\u001b[0m\u001b[0m\n\u001b[0m\u001b[1;32m     13\u001b[0m \u001b[0;34m\u001b[0m\u001b[0m\n\u001b[1;32m     14\u001b[0m   \u001b[0;31m#Part One\u001b[0m\u001b[0;34m\u001b[0m\u001b[0;34m\u001b[0m\u001b[0;34m\u001b[0m\u001b[0m\n",
            "\u001b[0;32m/usr/local/lib/python3.8/dist-packages/aocd/get.py\u001b[0m in \u001b[0;36mget_data\u001b[0;34m(session, day, year, block)\u001b[0m\n\u001b[1;32m     30\u001b[0m     \"\"\"\n\u001b[1;32m     31\u001b[0m     \u001b[0;32mif\u001b[0m \u001b[0msession\u001b[0m \u001b[0;32mis\u001b[0m \u001b[0;32mNone\u001b[0m\u001b[0;34m:\u001b[0m\u001b[0;34m\u001b[0m\u001b[0;34m\u001b[0m\u001b[0m\n\u001b[0;32m---> 32\u001b[0;31m         \u001b[0muser\u001b[0m \u001b[0;34m=\u001b[0m \u001b[0mdefault_user\u001b[0m\u001b[0;34m(\u001b[0m\u001b[0;34m)\u001b[0m\u001b[0;34m\u001b[0m\u001b[0;34m\u001b[0m\u001b[0m\n\u001b[0m\u001b[1;32m     33\u001b[0m     \u001b[0;32melse\u001b[0m\u001b[0;34m:\u001b[0m\u001b[0;34m\u001b[0m\u001b[0;34m\u001b[0m\u001b[0m\n\u001b[1;32m     34\u001b[0m         \u001b[0muser\u001b[0m \u001b[0;34m=\u001b[0m \u001b[0mUser\u001b[0m\u001b[0;34m(\u001b[0m\u001b[0mtoken\u001b[0m\u001b[0;34m=\u001b[0m\u001b[0msession\u001b[0m\u001b[0;34m)\u001b[0m\u001b[0;34m\u001b[0m\u001b[0;34m\u001b[0m\u001b[0m\n",
            "\u001b[0;32m/usr/local/lib/python3.8/dist-packages/aocd/models.py\u001b[0m in \u001b[0;36mdefault_user\u001b[0;34m()\u001b[0m\n\u001b[1;32m    165\u001b[0m     )\n\u001b[1;32m    166\u001b[0m     \u001b[0mcprint\u001b[0m\u001b[0;34m(\u001b[0m\u001b[0mmsg\u001b[0m\u001b[0;34m.\u001b[0m\u001b[0mformat\u001b[0m\u001b[0;34m(\u001b[0m\u001b[0mos\u001b[0m\u001b[0;34m.\u001b[0m\u001b[0mpath\u001b[0m\u001b[0;34m.\u001b[0m\u001b[0mjoin\u001b[0m\u001b[0;34m(\u001b[0m\u001b[0mAOCD_CONFIG_DIR\u001b[0m\u001b[0;34m,\u001b[0m \u001b[0;34m\"token\"\u001b[0m\u001b[0;34m)\u001b[0m\u001b[0;34m)\u001b[0m\u001b[0;34m,\u001b[0m \u001b[0mcolor\u001b[0m\u001b[0;34m=\u001b[0m\u001b[0;34m\"red\"\u001b[0m\u001b[0;34m,\u001b[0m \u001b[0mfile\u001b[0m\u001b[0;34m=\u001b[0m\u001b[0msys\u001b[0m\u001b[0;34m.\u001b[0m\u001b[0mstderr\u001b[0m\u001b[0;34m)\u001b[0m\u001b[0;34m\u001b[0m\u001b[0;34m\u001b[0m\u001b[0m\n\u001b[0;32m--> 167\u001b[0;31m     \u001b[0;32mraise\u001b[0m \u001b[0mAocdError\u001b[0m\u001b[0;34m(\u001b[0m\u001b[0;34m\"Missing session ID\"\u001b[0m\u001b[0;34m)\u001b[0m\u001b[0;34m\u001b[0m\u001b[0;34m\u001b[0m\u001b[0m\n\u001b[0m\u001b[1;32m    168\u001b[0m \u001b[0;34m\u001b[0m\u001b[0m\n\u001b[1;32m    169\u001b[0m \u001b[0;34m\u001b[0m\u001b[0m\n",
            "\u001b[0;31mAocdError\u001b[0m: Missing session ID"
          ]
        }
      ]
    },
    {
      "cell_type": "markdown",
      "source": [
        "--- Part Two ---\n",
        "\n",
        "As you finish identifying the misplaced items, the Elves come to you with another issue.\n",
        "\n",
        "For safety, the Elves are divided into groups of three. Every Elf carries a badge that identifies their group. For efficiency, within each group of three Elves, the badge is the only item type carried by all three Elves. That is, if a group's badge is item type B, then all three Elves will have item type B somewhere in their rucksack, and at most two of the Elves will be carrying any other item type.\n",
        "\n",
        "The problem is that someone forgot to put this year's updated authenticity sticker on the badges. All of the badges need to be pulled out of the rucksacks so the new authenticity stickers can be attached.\n",
        "\n",
        "Additionally, nobody wrote down which item type corresponds to each group's badges. The only way to tell which item type is the right one is by finding the one item type that is common between all three Elves in each group.\n",
        "\n",
        "Every set of three lines in your list corresponds to a single group, but each group can have a different badge item type. So, in the above example, the first group's rucksacks are the first three lines:\n",
        "\n",
        "vJrwpWtwJgWrhcsFMMfFFhFp\n",
        "jqHRNqRjqzjGDLGLrsFMfFZSrLrFZsSL\n",
        "PmmdzqPrVvPwwTWBwg\n",
        "\n",
        "And the second group's rucksacks are the next three lines:\n",
        "\n",
        "wMqvLMZHhHMvwLHjbvcjnnSBnvTQFn\n",
        "ttgJtRGJQctTZtZT\n",
        "CrZsJsPPZsGzwwsLwLmpwMDw\n",
        "\n",
        "In the first group, the only item type that appears in all three rucksacks is lowercase r; this must be their badges. In the second group, their badge item type must be Z.\n",
        "\n",
        "Priorities for these items must still be found to organize the sticker attachment efforts: here, they are 18 (r) for the first group and 52 (Z) for the second group. The sum of these is 70.\n",
        "\n",
        "Find the item type that corresponds to the badges of each three-Elf group. What is the sum of the priorities of those item types?\n",
        "\n"
      ],
      "metadata": {
        "id": "GNI1laoeXbUr"
      }
    },
    {
      "cell_type": "code",
      "source": [
        "def part_Two(data):\n",
        "  total_score = 0\n",
        "  split_items = data.split(\"\\n\")\n",
        "  first = split_items[0]\n",
        "  second = split_items[1]\n",
        "  third = split_items[2]\n",
        "\n",
        "  for i,x in enumerate(split_items):\n",
        "    if i % 3 == 0:\n",
        "      first = split_items[i]\n",
        "      second = split_items[i+1]\n",
        "      third = split_items[i+2]\n",
        "\n",
        "      #print(first, \" \", second, \" \", third)\n",
        "\n",
        "      dupe = findDupe2(first,second,third)\n",
        "      total_score += calcScore(dupe)\n",
        "\n",
        "    else:\n",
        "      pass\n",
        "\n",
        "\n",
        "  return total_score\n",
        "\n",
        "def findDupe2(elf1, elf2, elf3):\n",
        "  ss1 = sorted(elf1)\n",
        "  ss2 = sorted(elf2)\n",
        "  ss3 = sorted(elf3)\n",
        "  #print(ss1, ss2, ss3)\n",
        "  dupe = ''\n",
        "  last_char = ''\n",
        "  for character in ss1:\n",
        "    if last_char == character:\n",
        "      pass\n",
        "    if character in ss2 and character in ss3:\n",
        "      dupe = character\n",
        "      break\n",
        "    else:\n",
        "      dupe = '?'\n",
        "    last_char = character\n",
        "  return dupe"
      ],
      "metadata": {
        "id": "UxW_NhwmOrJW"
      },
      "execution_count": 75,
      "outputs": []
    }
  ]
}