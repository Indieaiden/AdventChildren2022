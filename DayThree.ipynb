{
  "nbformat": 4,
  "nbformat_minor": 0,
  "metadata": {
    "colab": {
      "provenance": [],
      "toc_visible": true,
      "name": "DayThree.ipynb",
      "authorship_tag": "ABX9TyMSEhNB7oOccTk82rLqqUVB",
      "include_colab_link": true
    },
    "kernelspec": {
      "name": "python3",
      "display_name": "Python 3"
    },
    "language_info": {
      "name": "python"
    }
  },
  "cells": [
    {
      "cell_type": "markdown",
      "metadata": {
        "id": "view-in-github",
        "colab_type": "text"
      },
      "source": [
        "<a href=\"https://colab.research.google.com/github/Indieaiden/AdventChildren2022/blob/main/DayThree.ipynb\" target=\"_parent\"><img src=\"https://colab.research.google.com/assets/colab-badge.svg\" alt=\"Open In Colab\"/></a>"
      ]
    },
    {
      "cell_type": "markdown",
      "source": [
        "Primero habrá que instalar las movidas instalables, digoyó"
      ],
      "metadata": {
        "id": "w4Eryv4sWhzx"
      }
    },
    {
      "cell_type": "code",
      "execution_count": 1,
      "metadata": {
        "colab": {
          "base_uri": "https://localhost:8080/"
        },
        "id": "rRbi2ddNI5dp",
        "outputId": "888e11b9-3ae9-444f-cc20-35ee309add77"
      },
      "outputs": [
        {
          "output_type": "stream",
          "name": "stdout",
          "text": [
            "Looking in indexes: https://pypi.org/simple, https://us-python.pkg.dev/colab-wheels/public/simple/\n",
            "Collecting advent-of-code-data\n",
            "  Downloading advent_of_code_data-1.3.1-py2.py3-none-any.whl (25 kB)\n",
            "Requirement already satisfied: tzlocal in /usr/local/lib/python3.8/dist-packages (from advent-of-code-data) (1.5.1)\n",
            "Requirement already satisfied: python-dateutil in /usr/local/lib/python3.8/dist-packages (from advent-of-code-data) (2.8.2)\n",
            "Requirement already satisfied: beautifulsoup4 in /usr/local/lib/python3.8/dist-packages (from advent-of-code-data) (4.6.3)\n",
            "Requirement already satisfied: requests in /usr/local/lib/python3.8/dist-packages (from advent-of-code-data) (2.23.0)\n",
            "Requirement already satisfied: termcolor in /usr/local/lib/python3.8/dist-packages (from advent-of-code-data) (2.1.1)\n",
            "Collecting pebble\n",
            "  Downloading Pebble-5.0.3-py3-none-any.whl (30 kB)\n",
            "Requirement already satisfied: six>=1.5 in /usr/local/lib/python3.8/dist-packages (from python-dateutil->advent-of-code-data) (1.15.0)\n",
            "Requirement already satisfied: chardet<4,>=3.0.2 in /usr/local/lib/python3.8/dist-packages (from requests->advent-of-code-data) (3.0.4)\n",
            "Requirement already satisfied: idna<3,>=2.5 in /usr/local/lib/python3.8/dist-packages (from requests->advent-of-code-data) (2.10)\n",
            "Requirement already satisfied: certifi>=2017.4.17 in /usr/local/lib/python3.8/dist-packages (from requests->advent-of-code-data) (2022.9.24)\n",
            "Requirement already satisfied: urllib3!=1.25.0,!=1.25.1,<1.26,>=1.21.1 in /usr/local/lib/python3.8/dist-packages (from requests->advent-of-code-data) (1.24.3)\n",
            "Requirement already satisfied: pytz in /usr/local/lib/python3.8/dist-packages (from tzlocal->advent-of-code-data) (2022.6)\n",
            "Installing collected packages: pebble, advent-of-code-data\n",
            "Successfully installed advent-of-code-data-1.3.1 pebble-5.0.3\n"
          ]
        }
      ],
      "source": [
        "pip install advent-of-code-data"
      ]
    },
    {
      "cell_type": "markdown",
      "source": [
        "--- Day 2: Rock Paper Scissors ---\n",
        "\n",
        "The Elves begin to set up camp on the beach. To decide whose tent gets to be closest to the snack storage, a giant Rock Paper Scissors tournament is already in progress.\n",
        "\n",
        "Rock Paper Scissors is a game between two players. Each game contains many rounds; in each round, the players each simultaneously choose one of Rock, Paper, or Scissors using a hand shape. Then, a winner for that round is selected: Rock defeats Scissors, Scissors defeats Paper, and Paper defeats Rock. If both players choose the same shape, the round instead ends in a draw.\n",
        "\n",
        "Appreciative of your help yesterday, one Elf gives you an encrypted strategy guide (your puzzle input) that they say will be sure to help you win. \"The first column is what your opponent is going to play: A for Rock, B for Paper, and C for Scissors. The second column--\" Suddenly, the Elf is called away to help with someone's tent.\n",
        "\n",
        "The second column, you reason, must be what you should play in response: X for Rock, Y for Paper, and Z for Scissors. Winning every time would be suspicious, so the responses must have been carefully chosen.\n",
        "\n",
        "The winner of the whole tournament is the player with the highest score. Your total score is the sum of your scores for each round. The score for a single round is the score for the shape you selected (1 for Rock, 2 for Paper, and 3 for Scissors) plus the score for the outcome of the round (0 if you lost, 3 if the round was a draw, and 6 if you won).\n",
        "\n",
        "Since you can't be sure if the Elf is trying to help you or trick you, you should calculate the score you would get if you were to follow the strategy guide.\n",
        "\n",
        "For example, suppose you were given the following strategy guide:\n",
        "\n",
        "A Y\n",
        "B X\n",
        "C Z\n",
        "\n",
        "This strategy guide predicts and recommends the following:\n",
        "\n",
        "    In the first round, your opponent will choose Rock (A), and you should choose Paper (Y). This ends in a win for you with a score of 8 (2 because you chose Paper + 6 because you won).\n",
        "    In the second round, your opponent will choose Paper (B), and you should choose Rock (X). This ends in a loss for you with a score of 1 (1 + 0).\n",
        "    The third round is a draw with both players choosing Scissors, giving you a score of 3 + 3 = 6.\n",
        "\n",
        "In this example, if you were to follow the strategy guide, you would get a total score of 15 (8 + 1 + 6).\n",
        "\n",
        "What would your total score be if everything goes exactly according to your strategy guide?\n"
      ],
      "metadata": {
        "id": "SV4fgZ7wWl9e"
      }
    },
    {
      "cell_type": "code",
      "source": [
        "#Part ONE\n",
        "\n",
        "import aocd\n",
        "import os \n",
        "\n",
        "cookie = \"\"\n",
        "\n",
        "\n",
        "def main():\n",
        "  os.environ[\"AOC_SESSION\"] = cookie\n",
        "  data = aocd.get_data(day=2, year=2022)\n",
        "\n",
        "  #Part One\n",
        "  score = part_One(data)\n",
        "  print(f\"The total score is: {score}\")\n",
        "  \n",
        "  #Part Two\n",
        "  score = part_Two(data)\n",
        "  print(f\"The total score is: {score}\")\n",
        "  \n",
        "\n",
        "def part_One(data):\n",
        "  total_score = 0\n",
        "  plays = data.split(\"\\n\")\n",
        "  plays.sort()\n",
        "  print(plays)\n",
        "  for i in range(len(plays)):\n",
        "    enemy = plays[i][0]\n",
        "    player = plays[i][2]\n",
        "\n",
        "    if player == 'X':\n",
        "      #Always +1 coz rock\n",
        "      total_score += 1\n",
        "      if enemy == 'A':\n",
        "        #Draw\n",
        "        total_score += 3\n",
        "      if enemy == 'B':\n",
        "        #Loss\n",
        "        total_score += 0\n",
        "      if enemy == 'C':\n",
        "        #Win\n",
        "        total_score += 6\n",
        "    if player == 'Y':\n",
        "      #Always +2 coz paper\n",
        "      total_score += 2\n",
        "      if enemy == 'A':\n",
        "        #Win\n",
        "        total_score += 6\n",
        "      if enemy == 'B':\n",
        "        #Draw\n",
        "        total_score += 3\n",
        "      if enemy == 'C':\n",
        "        #Loss\n",
        "        total_score += 0\n",
        "    if player == 'Z':\n",
        "      #Always +3 coz scissors\n",
        "      total_score += 3\n",
        "      if enemy == 'A':\n",
        "        #Loss\n",
        "        total_score += 0\n",
        "      if enemy == 'B':\n",
        "        #Win\n",
        "        total_score += 6\n",
        "      if enemy == 'C':\n",
        "        #Draw\n",
        "        total_score += 3\n",
        "  \n",
        "  return total_score\n",
        "  \n",
        "if __name__ == \"__main__\":\n",
        "  main()"
      ],
      "metadata": {
        "colab": {
          "base_uri": "https://localhost:8080/"
        },
        "id": "q_z21RDRJdHR",
        "outputId": "2932a9bf-d979-4afe-c96a-5c4746428891"
      },
      "execution_count": 18,
      "outputs": [
        {
          "output_type": "stream",
          "name": "stdout",
          "text": [
            "['A X', 'A X', 'A X', 'A X', 'A X', 'A X', 'A X', 'A X', 'A X', 'A X', 'A X', 'A X', 'A X', 'A X', 'A X', 'A X', 'A X', 'A X', 'A X', 'A X', 'A X', 'A X', 'A X', 'A X', 'A X', 'A X', 'A X', 'A X', 'A X', 'A X', 'A X', 'A X', 'A X', 'A X', 'A X', 'A X', 'A X', 'A X', 'A X', 'A X', 'A X', 'A Y', 'A Y', 'A Y', 'A Y', 'A Y', 'A Y', 'A Y', 'A Y', 'A Y', 'A Y', 'A Y', 'A Y', 'A Y', 'A Y', 'A Y', 'A Y', 'A Y', 'A Y', 'A Y', 'A Y', 'A Y', 'A Y', 'A Y', 'A Y', 'A Y', 'A Y', 'A Y', 'A Y', 'A Y', 'A Y', 'A Y', 'A Y', 'A Y', 'A Y', 'A Y', 'A Y', 'A Y', 'A Y', 'A Y', 'A Y', 'A Y', 'A Y', 'A Y', 'A Y', 'A Y', 'A Y', 'A Y', 'A Y', 'A Y', 'A Y', 'A Y', 'A Y', 'A Y', 'A Y', 'A Y', 'A Y', 'A Y', 'A Y', 'A Y', 'A Y', 'A Y', 'A Y', 'A Y', 'A Y', 'A Y', 'A Y', 'A Y', 'A Y', 'A Y', 'A Y', 'A Y', 'A Y', 'A Y', 'A Y', 'A Y', 'A Y', 'A Y', 'A Y', 'A Y', 'A Y', 'A Y', 'A Y', 'A Y', 'A Y', 'A Y', 'A Y', 'A Y', 'A Y', 'A Y', 'A Y', 'A Y', 'A Y', 'A Y', 'A Y', 'A Y', 'A Y', 'A Y', 'A Y', 'A Y', 'A Y', 'A Y', 'A Y', 'A Y', 'A Y', 'A Y', 'A Y', 'A Y', 'A Y', 'A Y', 'A Y', 'A Y', 'A Y', 'A Y', 'A Y', 'A Y', 'A Y', 'A Y', 'A Y', 'A Y', 'A Y', 'A Y', 'A Y', 'A Y', 'A Y', 'A Y', 'A Y', 'A Y', 'A Y', 'A Y', 'A Y', 'A Y', 'A Y', 'A Y', 'A Y', 'A Y', 'A Y', 'A Y', 'A Y', 'A Y', 'A Y', 'A Y', 'A Y', 'A Y', 'A Y', 'A Y', 'A Y', 'A Y', 'A Y', 'A Y', 'A Y', 'A Y', 'A Y', 'A Y', 'A Y', 'A Y', 'A Y', 'A Y', 'A Y', 'A Y', 'A Y', 'A Y', 'A Y', 'A Y', 'A Y', 'A Y', 'A Y', 'A Y', 'A Y', 'A Y', 'A Y', 'A Y', 'A Y', 'A Y', 'A Y', 'A Y', 'A Y', 'A Y', 'A Y', 'A Y', 'A Y', 'A Y', 'A Z', 'A Z', 'A Z', 'A Z', 'A Z', 'A Z', 'A Z', 'A Z', 'A Z', 'A Z', 'A Z', 'A Z', 'A Z', 'A Z', 'A Z', 'A Z', 'A Z', 'A Z', 'A Z', 'A Z', 'A Z', 'A Z', 'A Z', 'A Z', 'A Z', 'A Z', 'A Z', 'A Z', 'A Z', 'A Z', 'A Z', 'A Z', 'A Z', 'A Z', 'A Z', 'A Z', 'A Z', 'A Z', 'A Z', 'A Z', 'A Z', 'A Z', 'A Z', 'A Z', 'A Z', 'A Z', 'A Z', 'A Z', 'A Z', 'A Z', 'A Z', 'A Z', 'A Z', 'A Z', 'A Z', 'A Z', 'A Z', 'A Z', 'A Z', 'A Z', 'A Z', 'A Z', 'A Z', 'A Z', 'A Z', 'A Z', 'A Z', 'A Z', 'A Z', 'A Z', 'A Z', 'A Z', 'A Z', 'A Z', 'A Z', 'A Z', 'A Z', 'A Z', 'A Z', 'A Z', 'A Z', 'A Z', 'B X', 'B X', 'B X', 'B X', 'B X', 'B X', 'B X', 'B X', 'B X', 'B X', 'B X', 'B X', 'B X', 'B X', 'B X', 'B X', 'B X', 'B X', 'B X', 'B X', 'B X', 'B X', 'B X', 'B X', 'B X', 'B X', 'B X', 'B X', 'B X', 'B X', 'B X', 'B X', 'B X', 'B X', 'B X', 'B X', 'B X', 'B X', 'B X', 'B X', 'B X', 'B X', 'B X', 'B X', 'B X', 'B X', 'B X', 'B X', 'B X', 'B X', 'B X', 'B X', 'B X', 'B X', 'B X', 'B X', 'B X', 'B X', 'B X', 'B X', 'B X', 'B X', 'B X', 'B X', 'B X', 'B X', 'B X', 'B X', 'B X', 'B X', 'B X', 'B X', 'B X', 'B X', 'B X', 'B X', 'B X', 'B X', 'B X', 'B X', 'B X', 'B X', 'B X', 'B X', 'B X', 'B X', 'B X', 'B X', 'B X', 'B X', 'B X', 'B X', 'B X', 'B X', 'B X', 'B X', 'B X', 'B X', 'B X', 'B X', 'B X', 'B X', 'B X', 'B X', 'B X', 'B X', 'B X', 'B X', 'B X', 'B X', 'B X', 'B X', 'B X', 'B X', 'B X', 'B X', 'B X', 'B X', 'B X', 'B X', 'B X', 'B X', 'B X', 'B X', 'B X', 'B X', 'B X', 'B X', 'B X', 'B X', 'B X', 'B X', 'B X', 'B X', 'B X', 'B X', 'B X', 'B X', 'B X', 'B X', 'B X', 'B X', 'B X', 'B X', 'B X', 'B X', 'B X', 'B X', 'B X', 'B X', 'B X', 'B X', 'B X', 'B X', 'B X', 'B X', 'B X', 'B X', 'B X', 'B X', 'B X', 'B X', 'B X', 'B X', 'B X', 'B X', 'B X', 'B X', 'B X', 'B X', 'B X', 'B X', 'B X', 'B X', 'B X', 'B X', 'B X', 'B X', 'B X', 'B X', 'B X', 'B X', 'B X', 'B X', 'B X', 'B X', 'B X', 'B X', 'B X', 'B X', 'B X', 'B X', 'B X', 'B X', 'B X', 'B X', 'B X', 'B X', 'B X', 'B X', 'B X', 'B X', 'B X', 'B X', 'B X', 'B X', 'B X', 'B X', 'B X', 'B X', 'B X', 'B X', 'B X', 'B X', 'B X', 'B X', 'B X', 'B X', 'B X', 'B X', 'B X', 'B X', 'B X', 'B X', 'B X', 'B X', 'B X', 'B X', 'B X', 'B X', 'B X', 'B X', 'B X', 'B X', 'B X', 'B X', 'B X', 'B X', 'B X', 'B X', 'B X', 'B X', 'B X', 'B X', 'B X', 'B X', 'B X', 'B X', 'B X', 'B X', 'B X', 'B X', 'B X', 'B X', 'B X', 'B X', 'B X', 'B X', 'B X', 'B X', 'B X', 'B X', 'B X', 'B X', 'B X', 'B X', 'B X', 'B X', 'B X', 'B X', 'B X', 'B X', 'B X', 'B X', 'B X', 'B X', 'B X', 'B X', 'B X', 'B X', 'B X', 'B X', 'B X', 'B X', 'B X', 'B X', 'B X', 'B X', 'B X', 'B X', 'B X', 'B X', 'B X', 'B X', 'B X', 'B X', 'B X', 'B X', 'B X', 'B X', 'B X', 'B X', 'B X', 'B X', 'B X', 'B X', 'B X', 'B X', 'B X', 'B X', 'B X', 'B X', 'B X', 'B X', 'B X', 'B X', 'B X', 'B X', 'B X', 'B X', 'B Y', 'B Y', 'B Y', 'B Y', 'B Y', 'B Y', 'B Y', 'B Y', 'B Y', 'B Y', 'B Y', 'B Y', 'B Y', 'B Y', 'B Y', 'B Y', 'B Y', 'B Y', 'B Y', 'B Y', 'B Y', 'B Y', 'B Y', 'B Y', 'B Y', 'B Y', 'B Y', 'B Y', 'B Y', 'B Y', 'B Y', 'B Y', 'B Y', 'B Y', 'B Y', 'B Y', 'B Y', 'B Y', 'B Y', 'B Y', 'B Y', 'B Y', 'B Y', 'B Y', 'B Y', 'B Y', 'B Y', 'B Y', 'B Y', 'B Y', 'B Y', 'B Y', 'B Y', 'B Y', 'B Y', 'B Y', 'B Y', 'B Y', 'B Y', 'B Y', 'B Y', 'B Y', 'B Y', 'B Y', 'B Y', 'B Y', 'B Y', 'B Y', 'B Y', 'B Y', 'B Y', 'B Y', 'B Y', 'B Y', 'B Y', 'B Y', 'B Y', 'B Y', 'B Y', 'B Y', 'B Y', 'B Y', 'B Y', 'B Y', 'B Y', 'B Y', 'B Y', 'B Y', 'B Y', 'B Y', 'B Y', 'B Y', 'B Y', 'B Y', 'B Y', 'B Y', 'B Y', 'B Y', 'B Y', 'B Y', 'B Y', 'B Y', 'B Y', 'B Y', 'B Y', 'B Y', 'B Y', 'B Y', 'B Y', 'B Y', 'B Y', 'B Y', 'B Y', 'B Y', 'B Y', 'B Y', 'B Y', 'B Y', 'B Y', 'B Y', 'B Y', 'B Y', 'B Y', 'B Y', 'B Y', 'B Y', 'B Y', 'B Y', 'B Y', 'B Y', 'B Y', 'B Y', 'B Y', 'B Y', 'B Y', 'B Y', 'B Y', 'B Y', 'B Y', 'B Y', 'B Y', 'B Y', 'B Y', 'B Y', 'B Y', 'B Y', 'B Y', 'B Y', 'B Y', 'B Y', 'B Y', 'B Y', 'B Y', 'B Y', 'B Y', 'B Y', 'B Y', 'B Y', 'B Y', 'B Y', 'B Y', 'B Y', 'B Y', 'B Y', 'B Y', 'B Y', 'B Y', 'B Y', 'B Y', 'B Y', 'B Y', 'B Y', 'B Y', 'B Y', 'B Y', 'B Y', 'B Y', 'B Y', 'B Y', 'B Y', 'B Y', 'B Y', 'B Y', 'B Y', 'B Y', 'B Y', 'B Y', 'B Y', 'B Y', 'B Y', 'B Y', 'B Y', 'B Y', 'B Y', 'B Y', 'B Y', 'B Y', 'B Y', 'B Y', 'B Y', 'B Y', 'B Y', 'B Y', 'B Y', 'B Y', 'B Y', 'B Y', 'B Y', 'B Y', 'B Y', 'B Y', 'B Y', 'B Y', 'B Y', 'B Y', 'B Y', 'B Y', 'B Y', 'B Y', 'B Y', 'B Y', 'B Y', 'B Y', 'B Y', 'B Y', 'B Y', 'B Y', 'B Y', 'B Y', 'B Y', 'B Y', 'B Y', 'B Y', 'B Y', 'B Y', 'B Y', 'B Y', 'B Y', 'B Y', 'B Y', 'B Y', 'B Y', 'B Y', 'B Y', 'B Y', 'B Y', 'B Y', 'B Y', 'B Y', 'B Y', 'B Y', 'B Y', 'B Y', 'B Y', 'B Y', 'B Y', 'B Y', 'B Y', 'B Y', 'B Y', 'B Y', 'B Y', 'B Y', 'B Y', 'B Y', 'B Y', 'B Y', 'B Y', 'B Y', 'B Y', 'B Y', 'B Y', 'B Y', 'B Y', 'B Y', 'B Y', 'B Y', 'B Y', 'B Y', 'B Y', 'B Y', 'B Y', 'B Y', 'B Y', 'B Y', 'B Y', 'B Y', 'B Y', 'B Y', 'B Y', 'B Y', 'B Y', 'B Y', 'B Y', 'B Y', 'B Y', 'B Y', 'B Y', 'B Y', 'B Y', 'B Y', 'B Y', 'B Y', 'B Y', 'B Y', 'B Y', 'B Y', 'B Y', 'B Y', 'B Y', 'B Y', 'B Y', 'B Y', 'B Y', 'B Y', 'B Y', 'B Y', 'B Y', 'B Y', 'B Y', 'B Y', 'B Y', 'B Y', 'B Y', 'B Y', 'B Y', 'B Y', 'B Y', 'B Y', 'B Y', 'B Y', 'B Y', 'B Y', 'B Y', 'B Y', 'B Y', 'B Y', 'B Y', 'B Y', 'B Y', 'B Y', 'B Y', 'B Y', 'B Y', 'B Y', 'B Y', 'B Y', 'B Y', 'B Y', 'B Y', 'B Y', 'B Y', 'B Y', 'B Y', 'B Y', 'B Y', 'B Y', 'B Y', 'B Y', 'B Y', 'B Y', 'B Y', 'B Y', 'B Y', 'B Y', 'B Y', 'B Y', 'B Y', 'B Y', 'B Y', 'B Y', 'B Y', 'B Y', 'B Y', 'B Y', 'B Y', 'B Y', 'B Y', 'B Y', 'B Y', 'B Y', 'B Y', 'B Y', 'B Y', 'B Y', 'B Y', 'B Y', 'B Y', 'B Y', 'B Y', 'B Y', 'B Y', 'B Y', 'B Y', 'B Y', 'B Y', 'B Y', 'B Y', 'B Y', 'B Y', 'B Y', 'B Y', 'B Y', 'B Y', 'B Y', 'B Y', 'B Y', 'B Y', 'B Y', 'B Y', 'B Y', 'B Y', 'B Y', 'B Y', 'B Y', 'B Y', 'B Y', 'B Y', 'B Y', 'B Y', 'B Y', 'B Y', 'B Y', 'B Y', 'B Y', 'B Y', 'B Y', 'B Y', 'B Y', 'B Y', 'B Y', 'B Y', 'B Y', 'B Y', 'B Y', 'B Y', 'B Y', 'B Y', 'B Y', 'B Y', 'B Y', 'B Y', 'B Y', 'B Y', 'B Y', 'B Y', 'B Y', 'B Y', 'B Y', 'B Y', 'B Y', 'B Y', 'B Y', 'B Y', 'B Y', 'B Y', 'B Y', 'B Y', 'B Y', 'B Y', 'B Y', 'B Y', 'B Y', 'B Y', 'B Y', 'B Y', 'B Y', 'B Y', 'B Y', 'B Y', 'B Y', 'B Y', 'B Y', 'B Y', 'B Y', 'B Y', 'B Y', 'B Y', 'B Y', 'B Y', 'B Y', 'B Y', 'B Y', 'B Y', 'B Y', 'B Y', 'B Y', 'B Y', 'B Y', 'B Y', 'B Y', 'B Y', 'B Y', 'B Y', 'B Y', 'B Y', 'B Y', 'B Y', 'B Y', 'B Y', 'B Y', 'B Y', 'B Y', 'B Y', 'B Y', 'B Y', 'B Y', 'B Y', 'B Y', 'B Y', 'B Y', 'B Y', 'B Z', 'B Z', 'B Z', 'B Z', 'B Z', 'B Z', 'B Z', 'B Z', 'B Z', 'B Z', 'B Z', 'B Z', 'B Z', 'B Z', 'B Z', 'B Z', 'B Z', 'B Z', 'B Z', 'B Z', 'B Z', 'B Z', 'B Z', 'B Z', 'B Z', 'B Z', 'B Z', 'B Z', 'B Z', 'B Z', 'B Z', 'B Z', 'B Z', 'B Z', 'B Z', 'B Z', 'B Z', 'B Z', 'B Z', 'B Z', 'B Z', 'B Z', 'B Z', 'B Z', 'B Z', 'B Z', 'B Z', 'B Z', 'B Z', 'B Z', 'B Z', 'B Z', 'B Z', 'B Z', 'B Z', 'B Z', 'B Z', 'B Z', 'B Z', 'B Z', 'B Z', 'B Z', 'B Z', 'B Z', 'B Z', 'B Z', 'B Z', 'B Z', 'B Z', 'B Z', 'B Z', 'B Z', 'B Z', 'B Z', 'B Z', 'B Z', 'B Z', 'B Z', 'B Z', 'B Z', 'B Z', 'B Z', 'B Z', 'B Z', 'B Z', 'B Z', 'B Z', 'B Z', 'B Z', 'B Z', 'B Z', 'B Z', 'B Z', 'B Z', 'B Z', 'B Z', 'B Z', 'B Z', 'B Z', 'B Z', 'B Z', 'B Z', 'B Z', 'B Z', 'B Z', 'B Z', 'B Z', 'B Z', 'B Z', 'B Z', 'B Z', 'B Z', 'B Z', 'B Z', 'B Z', 'B Z', 'B Z', 'B Z', 'B Z', 'B Z', 'B Z', 'B Z', 'B Z', 'B Z', 'B Z', 'B Z', 'B Z', 'B Z', 'B Z', 'B Z', 'B Z', 'B Z', 'B Z', 'B Z', 'B Z', 'B Z', 'B Z', 'B Z', 'B Z', 'B Z', 'B Z', 'B Z', 'B Z', 'B Z', 'B Z', 'B Z', 'B Z', 'B Z', 'B Z', 'B Z', 'B Z', 'B Z', 'B Z', 'B Z', 'B Z', 'B Z', 'B Z', 'B Z', 'B Z', 'B Z', 'B Z', 'B Z', 'B Z', 'B Z', 'B Z', 'B Z', 'B Z', 'B Z', 'B Z', 'B Z', 'B Z', 'B Z', 'B Z', 'B Z', 'B Z', 'B Z', 'B Z', 'B Z', 'B Z', 'B Z', 'B Z', 'B Z', 'B Z', 'B Z', 'B Z', 'B Z', 'B Z', 'B Z', 'B Z', 'B Z', 'B Z', 'B Z', 'B Z', 'B Z', 'B Z', 'B Z', 'B Z', 'B Z', 'B Z', 'B Z', 'B Z', 'B Z', 'B Z', 'B Z', 'B Z', 'B Z', 'B Z', 'B Z', 'B Z', 'B Z', 'B Z', 'B Z', 'B Z', 'B Z', 'B Z', 'B Z', 'B Z', 'B Z', 'B Z', 'B Z', 'B Z', 'B Z', 'B Z', 'C X', 'C X', 'C X', 'C X', 'C X', 'C X', 'C X', 'C X', 'C X', 'C X', 'C X', 'C X', 'C X', 'C X', 'C X', 'C X', 'C X', 'C X', 'C X', 'C X', 'C X', 'C X', 'C X', 'C X', 'C X', 'C X', 'C X', 'C X', 'C X', 'C X', 'C X', 'C X', 'C X', 'C X', 'C X', 'C X', 'C X', 'C X', 'C X', 'C X', 'C X', 'C X', 'C X', 'C Y', 'C Y', 'C Y', 'C Y', 'C Y', 'C Y', 'C Y', 'C Y', 'C Y', 'C Y', 'C Y', 'C Y', 'C Y', 'C Y', 'C Y', 'C Y', 'C Y', 'C Y', 'C Y', 'C Y', 'C Y', 'C Y', 'C Y', 'C Y', 'C Y', 'C Y', 'C Y', 'C Y', 'C Y', 'C Y', 'C Y', 'C Y', 'C Y', 'C Y', 'C Y', 'C Y', 'C Y', 'C Y', 'C Y', 'C Y', 'C Y', 'C Y', 'C Y', 'C Y', 'C Y', 'C Y', 'C Y', 'C Y', 'C Y', 'C Y', 'C Y', 'C Y', 'C Y', 'C Y', 'C Y', 'C Y', 'C Y', 'C Y', 'C Y', 'C Y', 'C Y', 'C Y', 'C Y', 'C Y', 'C Y', 'C Y', 'C Y', 'C Y', 'C Y', 'C Y', 'C Y', 'C Y', 'C Y', 'C Y', 'C Y', 'C Y', 'C Y', 'C Y', 'C Y', 'C Y', 'C Y', 'C Y', 'C Y', 'C Y', 'C Y', 'C Y', 'C Y', 'C Y', 'C Y', 'C Y', 'C Y', 'C Y', 'C Y', 'C Y', 'C Y', 'C Y', 'C Y', 'C Y', 'C Y', 'C Y', 'C Y', 'C Y', 'C Y', 'C Y', 'C Y', 'C Y', 'C Y', 'C Y', 'C Y', 'C Y', 'C Y', 'C Y', 'C Y', 'C Y', 'C Y', 'C Y', 'C Y', 'C Y', 'C Y', 'C Y', 'C Y', 'C Y', 'C Y', 'C Y', 'C Y', 'C Y', 'C Y', 'C Y', 'C Y', 'C Y', 'C Y', 'C Y', 'C Y', 'C Y', 'C Y', 'C Y', 'C Y', 'C Y', 'C Y', 'C Y', 'C Y', 'C Y', 'C Y', 'C Y', 'C Y', 'C Y', 'C Y', 'C Y', 'C Y', 'C Y', 'C Y', 'C Y', 'C Y', 'C Y', 'C Y', 'C Y', 'C Y', 'C Y', 'C Y', 'C Y', 'C Y', 'C Y', 'C Y', 'C Y', 'C Y', 'C Y', 'C Y', 'C Y', 'C Y', 'C Y', 'C Y', 'C Y', 'C Y', 'C Y', 'C Y', 'C Y', 'C Y', 'C Y', 'C Y', 'C Y', 'C Y', 'C Y', 'C Y', 'C Y', 'C Y', 'C Y', 'C Y', 'C Y', 'C Y', 'C Y', 'C Y', 'C Y', 'C Y', 'C Y', 'C Y', 'C Y', 'C Y', 'C Y', 'C Y', 'C Y', 'C Y', 'C Y', 'C Y', 'C Y', 'C Y', 'C Y', 'C Y', 'C Y', 'C Y', 'C Y', 'C Y', 'C Y', 'C Y', 'C Y', 'C Y', 'C Y', 'C Y', 'C Y', 'C Y', 'C Y', 'C Y', 'C Y', 'C Y', 'C Y', 'C Y', 'C Y', 'C Y', 'C Y', 'C Y', 'C Y', 'C Y', 'C Y', 'C Y', 'C Y', 'C Y', 'C Y', 'C Y', 'C Y', 'C Y', 'C Y', 'C Y', 'C Y', 'C Y', 'C Y', 'C Y', 'C Y', 'C Y', 'C Y', 'C Y', 'C Y', 'C Y', 'C Y', 'C Y', 'C Y', 'C Y', 'C Y', 'C Y', 'C Y', 'C Y', 'C Y', 'C Y', 'C Y', 'C Y', 'C Y', 'C Y', 'C Y', 'C Y', 'C Y', 'C Y', 'C Y', 'C Y', 'C Y', 'C Y', 'C Y', 'C Y', 'C Y', 'C Y', 'C Y', 'C Y', 'C Y', 'C Y', 'C Y', 'C Y', 'C Y', 'C Y', 'C Y', 'C Y', 'C Y', 'C Y', 'C Y', 'C Y', 'C Y', 'C Y', 'C Y', 'C Y', 'C Y', 'C Y', 'C Y', 'C Y', 'C Y', 'C Y', 'C Y', 'C Y', 'C Y', 'C Y', 'C Y', 'C Y', 'C Y', 'C Y', 'C Y', 'C Y', 'C Y', 'C Y', 'C Y', 'C Y', 'C Y', 'C Y', 'C Y', 'C Y', 'C Y', 'C Y', 'C Y', 'C Y', 'C Y', 'C Y', 'C Y', 'C Y', 'C Y', 'C Y', 'C Y', 'C Y', 'C Y', 'C Y', 'C Y', 'C Y', 'C Y', 'C Y', 'C Y', 'C Y', 'C Y', 'C Y', 'C Y', 'C Y', 'C Y', 'C Y', 'C Y', 'C Y', 'C Y', 'C Y', 'C Y', 'C Y', 'C Y', 'C Y', 'C Y', 'C Y', 'C Y', 'C Y', 'C Y', 'C Y', 'C Y', 'C Y', 'C Y', 'C Y', 'C Y', 'C Y', 'C Y', 'C Y', 'C Y', 'C Y', 'C Y', 'C Y', 'C Y', 'C Y', 'C Y', 'C Y', 'C Y', 'C Y', 'C Y', 'C Y', 'C Y', 'C Y', 'C Y', 'C Y', 'C Y', 'C Y', 'C Y', 'C Y', 'C Y', 'C Y', 'C Y', 'C Y', 'C Y', 'C Y', 'C Y', 'C Y', 'C Y', 'C Y', 'C Y', 'C Y', 'C Y', 'C Y', 'C Y', 'C Y', 'C Y', 'C Y', 'C Y', 'C Y', 'C Y', 'C Y', 'C Y', 'C Y', 'C Y', 'C Y', 'C Y', 'C Y', 'C Y', 'C Y', 'C Y', 'C Y', 'C Y', 'C Y', 'C Y', 'C Y', 'C Y', 'C Y', 'C Y', 'C Y', 'C Y', 'C Y', 'C Y', 'C Y', 'C Y', 'C Y', 'C Y', 'C Y', 'C Y', 'C Y', 'C Y', 'C Y', 'C Y', 'C Y', 'C Y', 'C Y', 'C Y', 'C Y', 'C Y', 'C Y', 'C Y', 'C Y', 'C Y', 'C Y', 'C Y', 'C Y', 'C Y', 'C Y', 'C Y', 'C Y', 'C Y', 'C Y', 'C Y', 'C Y', 'C Y', 'C Y', 'C Y', 'C Y', 'C Y', 'C Y', 'C Y', 'C Y', 'C Y', 'C Y', 'C Y', 'C Y', 'C Y', 'C Y', 'C Y', 'C Y', 'C Y', 'C Y', 'C Y', 'C Y', 'C Y', 'C Y', 'C Y', 'C Y', 'C Y', 'C Y', 'C Y', 'C Y', 'C Y', 'C Y', 'C Y', 'C Y', 'C Y', 'C Y', 'C Y', 'C Y', 'C Y', 'C Y', 'C Y', 'C Y', 'C Y', 'C Y', 'C Y', 'C Y', 'C Y', 'C Y', 'C Y', 'C Y', 'C Y', 'C Y', 'C Y', 'C Y', 'C Y', 'C Y', 'C Y', 'C Y', 'C Y', 'C Y', 'C Y', 'C Y', 'C Y', 'C Y', 'C Y', 'C Y', 'C Y', 'C Y', 'C Y', 'C Y', 'C Y', 'C Y', 'C Y', 'C Y', 'C Y', 'C Y', 'C Y', 'C Y', 'C Y', 'C Y', 'C Y', 'C Y', 'C Y', 'C Y', 'C Y', 'C Y', 'C Y', 'C Y', 'C Y', 'C Y', 'C Y', 'C Y', 'C Y', 'C Y', 'C Y', 'C Y', 'C Y', 'C Y', 'C Y', 'C Y', 'C Y', 'C Y', 'C Y', 'C Z', 'C Z', 'C Z', 'C Z', 'C Z', 'C Z', 'C Z', 'C Z', 'C Z', 'C Z', 'C Z', 'C Z', 'C Z', 'C Z', 'C Z', 'C Z', 'C Z', 'C Z', 'C Z', 'C Z', 'C Z', 'C Z', 'C Z', 'C Z', 'C Z', 'C Z', 'C Z', 'C Z', 'C Z', 'C Z', 'C Z', 'C Z', 'C Z', 'C Z', 'C Z', 'C Z', 'C Z', 'C Z', 'C Z', 'C Z', 'C Z', 'C Z', 'C Z', 'C Z', 'C Z', 'C Z', 'C Z', 'C Z', 'C Z', 'C Z', 'C Z', 'C Z', 'C Z', 'C Z', 'C Z', 'C Z', 'C Z', 'C Z', 'C Z', 'C Z', 'C Z', 'C Z', 'C Z', 'C Z', 'C Z', 'C Z', 'C Z', 'C Z', 'C Z', 'C Z', 'C Z', 'C Z', 'C Z', 'C Z', 'C Z', 'C Z', 'C Z', 'C Z', 'C Z', 'C Z', 'C Z', 'C Z', 'C Z', 'C Z', 'C Z', 'C Z', 'C Z', 'C Z', 'C Z', 'C Z', 'C Z', 'C Z', 'C Z', 'C Z', 'C Z', 'C Z', 'C Z', 'C Z', 'C Z', 'C Z', 'C Z', 'C Z', 'C Z', 'C Z', 'C Z', 'C Z', 'C Z', 'C Z', 'C Z', 'C Z', 'C Z', 'C Z', 'C Z', 'C Z', 'C Z', 'C Z', 'C Z', 'C Z', 'C Z', 'C Z', 'C Z', 'C Z', 'C Z', 'C Z', 'C Z', 'C Z', 'C Z', 'C Z', 'C Z', 'C Z', 'C Z', 'C Z', 'C Z', 'C Z', 'C Z', 'C Z', 'C Z', 'C Z', 'C Z', 'C Z', 'C Z', 'C Z', 'C Z', 'C Z', 'C Z', 'C Z', 'C Z', 'C Z', 'C Z', 'C Z', 'C Z', 'C Z', 'C Z', 'C Z', 'C Z', 'C Z', 'C Z', 'C Z', 'C Z', 'C Z', 'C Z', 'C Z', 'C Z', 'C Z', 'C Z', 'C Z', 'C Z', 'C Z', 'C Z', 'C Z', 'C Z', 'C Z', 'C Z', 'C Z', 'C Z', 'C Z', 'C Z', 'C Z', 'C Z', 'C Z', 'C Z', 'C Z', 'C Z', 'C Z', 'C Z', 'C Z', 'C Z', 'C Z', 'C Z', 'C Z', 'C Z', 'C Z', 'C Z', 'C Z', 'C Z', 'C Z', 'C Z', 'C Z', 'C Z', 'C Z', 'C Z', 'C Z', 'C Z', 'C Z', 'C Z', 'C Z', 'C Z', 'C Z', 'C Z', 'C Z', 'C Z', 'C Z', 'C Z', 'C Z', 'C Z', 'C Z', 'C Z', 'C Z', 'C Z', 'C Z', 'C Z', 'C Z', 'C Z', 'C Z', 'C Z', 'C Z', 'C Z', 'C Z', 'C Z', 'C Z', 'C Z', 'C Z', 'C Z', 'C Z', 'C Z', 'C Z', 'C Z', 'C Z', 'C Z', 'C Z', 'C Z', 'C Z', 'C Z', 'C Z', 'C Z', 'C Z', 'C Z', 'C Z', 'C Z', 'C Z', 'C Z', 'C Z', 'C Z', 'C Z', 'C Z', 'C Z', 'C Z', 'C Z', 'C Z', 'C Z', 'C Z', 'C Z', 'C Z', 'C Z', 'C Z', 'C Z', 'C Z', 'C Z', 'C Z', 'C Z', 'C Z', 'C Z', 'C Z', 'C Z', 'C Z', 'C Z', 'C Z', 'C Z', 'C Z', 'C Z', 'C Z', 'C Z', 'C Z', 'C Z', 'C Z', 'C Z', 'C Z', 'C Z', 'C Z', 'C Z', 'C Z', 'C Z', 'C Z', 'C Z', 'C Z', 'C Z', 'C Z', 'C Z', 'C Z', 'C Z', 'C Z', 'C Z', 'C Z', 'C Z', 'C Z', 'C Z', 'C Z', 'C Z', 'C Z', 'C Z', 'C Z', 'C Z', 'C Z', 'C Z', 'C Z', 'C Z', 'C Z', 'C Z', 'C Z', 'C Z', 'C Z', 'C Z', 'C Z', 'C Z', 'C Z', 'C Z', 'C Z', 'C Z', 'C Z', 'C Z', 'C Z', 'C Z', 'C Z', 'C Z', 'C Z', 'C Z', 'C Z', 'C Z', 'C Z', 'C Z', 'C Z', 'C Z', 'C Z', 'C Z', 'C Z', 'C Z', 'C Z', 'C Z', 'C Z', 'C Z', 'C Z', 'C Z', 'C Z', 'C Z', 'C Z', 'C Z', 'C Z', 'C Z', 'C Z', 'C Z', 'C Z', 'C Z', 'C Z', 'C Z', 'C Z', 'C Z', 'C Z', 'C Z', 'C Z', 'C Z', 'C Z', 'C Z', 'C Z', 'C Z', 'C Z', 'C Z', 'C Z', 'C Z', 'C Z', 'C Z', 'C Z', 'C Z', 'C Z', 'C Z', 'C Z', 'C Z', 'C Z', 'C Z', 'C Z', 'C Z', 'C Z', 'C Z', 'C Z', 'C Z', 'C Z', 'C Z', 'C Z', 'C Z', 'C Z', 'C Z', 'C Z', 'C Z', 'C Z', 'C Z', 'C Z', 'C Z', 'C Z', 'C Z', 'C Z', 'C Z', 'C Z', 'C Z', 'C Z', 'C Z', 'C Z', 'C Z', 'C Z', 'C Z', 'C Z', 'C Z', 'C Z', 'C Z', 'C Z', 'C Z', 'C Z', 'C Z', 'C Z', 'C Z', 'C Z', 'C Z', 'C Z', 'C Z', 'C Z', 'C Z', 'C Z', 'C Z', 'C Z', 'C Z', 'C Z', 'C Z', 'C Z', 'C Z', 'C Z', 'C Z', 'C Z', 'C Z', 'C Z', 'C Z', 'C Z', 'C Z', 'C Z', 'C Z', 'C Z', 'C Z', 'C Z', 'C Z', 'C Z', 'C Z', 'C Z', 'C Z', 'C Z', 'C Z', 'C Z', 'C Z', 'C Z', 'C Z', 'C Z', 'C Z', 'C Z', 'C Z', 'C Z', 'C Z', 'C Z', 'C Z', 'C Z', 'C Z', 'C Z', 'C Z', 'C Z', 'C Z', 'C Z', 'C Z', 'C Z', 'C Z', 'C Z', 'C Z', 'C Z', 'C Z', 'C Z', 'C Z', 'C Z', 'C Z', 'C Z', 'C Z', 'C Z', 'C Z', 'C Z', 'C Z', 'C Z', 'C Z', 'C Z', 'C Z', 'C Z', 'C Z', 'C Z', 'C Z', 'C Z', 'C Z', 'C Z', 'C Z', 'C Z', 'C Z', 'C Z', 'C Z', 'C Z', 'C Z', 'C Z', 'C Z', 'C Z', 'C Z', 'C Z', 'C Z', 'C Z', 'C Z', 'C Z', 'C Z', 'C Z', 'C Z', 'C Z', 'C Z', 'C Z', 'C Z', 'C Z', 'C Z', 'C Z', 'C Z']\n",
            "The total score is: 11386\n",
            "['A X', 'A X', 'A X', 'A X', 'A X', 'A X', 'A X', 'A X', 'A X', 'A X', 'A X', 'A X', 'A X', 'A X', 'A X', 'A X', 'A X', 'A X', 'A X', 'A X', 'A X', 'A X', 'A X', 'A X', 'A X', 'A X', 'A X', 'A X', 'A X', 'A X', 'A X', 'A X', 'A X', 'A X', 'A X', 'A X', 'A X', 'A X', 'A X', 'A X', 'A X', 'A Y', 'A Y', 'A Y', 'A Y', 'A Y', 'A Y', 'A Y', 'A Y', 'A Y', 'A Y', 'A Y', 'A Y', 'A Y', 'A Y', 'A Y', 'A Y', 'A Y', 'A Y', 'A Y', 'A Y', 'A Y', 'A Y', 'A Y', 'A Y', 'A Y', 'A Y', 'A Y', 'A Y', 'A Y', 'A Y', 'A Y', 'A Y', 'A Y', 'A Y', 'A Y', 'A Y', 'A Y', 'A Y', 'A Y', 'A Y', 'A Y', 'A Y', 'A Y', 'A Y', 'A Y', 'A Y', 'A Y', 'A Y', 'A Y', 'A Y', 'A Y', 'A Y', 'A Y', 'A Y', 'A Y', 'A Y', 'A Y', 'A Y', 'A Y', 'A Y', 'A Y', 'A Y', 'A Y', 'A Y', 'A Y', 'A Y', 'A Y', 'A Y', 'A Y', 'A Y', 'A Y', 'A Y', 'A Y', 'A Y', 'A Y', 'A Y', 'A Y', 'A Y', 'A Y', 'A Y', 'A Y', 'A Y', 'A Y', 'A Y', 'A Y', 'A Y', 'A Y', 'A Y', 'A Y', 'A Y', 'A Y', 'A Y', 'A Y', 'A Y', 'A Y', 'A Y', 'A Y', 'A Y', 'A Y', 'A Y', 'A Y', 'A Y', 'A Y', 'A Y', 'A Y', 'A Y', 'A Y', 'A Y', 'A Y', 'A Y', 'A Y', 'A Y', 'A Y', 'A Y', 'A Y', 'A Y', 'A Y', 'A Y', 'A Y', 'A Y', 'A Y', 'A Y', 'A Y', 'A Y', 'A Y', 'A Y', 'A Y', 'A Y', 'A Y', 'A Y', 'A Y', 'A Y', 'A Y', 'A Y', 'A Y', 'A Y', 'A Y', 'A Y', 'A Y', 'A Y', 'A Y', 'A Y', 'A Y', 'A Y', 'A Y', 'A Y', 'A Y', 'A Y', 'A Y', 'A Y', 'A Y', 'A Y', 'A Y', 'A Y', 'A Y', 'A Y', 'A Y', 'A Y', 'A Y', 'A Y', 'A Y', 'A Y', 'A Y', 'A Y', 'A Y', 'A Y', 'A Y', 'A Y', 'A Y', 'A Y', 'A Y', 'A Y', 'A Y', 'A Y', 'A Y', 'A Y', 'A Y', 'A Y', 'A Y', 'A Y', 'A Y', 'A Z', 'A Z', 'A Z', 'A Z', 'A Z', 'A Z', 'A Z', 'A Z', 'A Z', 'A Z', 'A Z', 'A Z', 'A Z', 'A Z', 'A Z', 'A Z', 'A Z', 'A Z', 'A Z', 'A Z', 'A Z', 'A Z', 'A Z', 'A Z', 'A Z', 'A Z', 'A Z', 'A Z', 'A Z', 'A Z', 'A Z', 'A Z', 'A Z', 'A Z', 'A Z', 'A Z', 'A Z', 'A Z', 'A Z', 'A Z', 'A Z', 'A Z', 'A Z', 'A Z', 'A Z', 'A Z', 'A Z', 'A Z', 'A Z', 'A Z', 'A Z', 'A Z', 'A Z', 'A Z', 'A Z', 'A Z', 'A Z', 'A Z', 'A Z', 'A Z', 'A Z', 'A Z', 'A Z', 'A Z', 'A Z', 'A Z', 'A Z', 'A Z', 'A Z', 'A Z', 'A Z', 'A Z', 'A Z', 'A Z', 'A Z', 'A Z', 'A Z', 'A Z', 'A Z', 'A Z', 'A Z', 'A Z', 'B X', 'B X', 'B X', 'B X', 'B X', 'B X', 'B X', 'B X', 'B X', 'B X', 'B X', 'B X', 'B X', 'B X', 'B X', 'B X', 'B X', 'B X', 'B X', 'B X', 'B X', 'B X', 'B X', 'B X', 'B X', 'B X', 'B X', 'B X', 'B X', 'B X', 'B X', 'B X', 'B X', 'B X', 'B X', 'B X', 'B X', 'B X', 'B X', 'B X', 'B X', 'B X', 'B X', 'B X', 'B X', 'B X', 'B X', 'B X', 'B X', 'B X', 'B X', 'B X', 'B X', 'B X', 'B X', 'B X', 'B X', 'B X', 'B X', 'B X', 'B X', 'B X', 'B X', 'B X', 'B X', 'B X', 'B X', 'B X', 'B X', 'B X', 'B X', 'B X', 'B X', 'B X', 'B X', 'B X', 'B X', 'B X', 'B X', 'B X', 'B X', 'B X', 'B X', 'B X', 'B X', 'B X', 'B X', 'B X', 'B X', 'B X', 'B X', 'B X', 'B X', 'B X', 'B X', 'B X', 'B X', 'B X', 'B X', 'B X', 'B X', 'B X', 'B X', 'B X', 'B X', 'B X', 'B X', 'B X', 'B X', 'B X', 'B X', 'B X', 'B X', 'B X', 'B X', 'B X', 'B X', 'B X', 'B X', 'B X', 'B X', 'B X', 'B X', 'B X', 'B X', 'B X', 'B X', 'B X', 'B X', 'B X', 'B X', 'B X', 'B X', 'B X', 'B X', 'B X', 'B X', 'B X', 'B X', 'B X', 'B X', 'B X', 'B X', 'B X', 'B X', 'B X', 'B X', 'B X', 'B X', 'B X', 'B X', 'B X', 'B X', 'B X', 'B X', 'B X', 'B X', 'B X', 'B X', 'B X', 'B X', 'B X', 'B X', 'B X', 'B X', 'B X', 'B X', 'B X', 'B X', 'B X', 'B X', 'B X', 'B X', 'B X', 'B X', 'B X', 'B X', 'B X', 'B X', 'B X', 'B X', 'B X', 'B X', 'B X', 'B X', 'B X', 'B X', 'B X', 'B X', 'B X', 'B X', 'B X', 'B X', 'B X', 'B X', 'B X', 'B X', 'B X', 'B X', 'B X', 'B X', 'B X', 'B X', 'B X', 'B X', 'B X', 'B X', 'B X', 'B X', 'B X', 'B X', 'B X', 'B X', 'B X', 'B X', 'B X', 'B X', 'B X', 'B X', 'B X', 'B X', 'B X', 'B X', 'B X', 'B X', 'B X', 'B X', 'B X', 'B X', 'B X', 'B X', 'B X', 'B X', 'B X', 'B X', 'B X', 'B X', 'B X', 'B X', 'B X', 'B X', 'B X', 'B X', 'B X', 'B X', 'B X', 'B X', 'B X', 'B X', 'B X', 'B X', 'B X', 'B X', 'B X', 'B X', 'B X', 'B X', 'B X', 'B X', 'B X', 'B X', 'B X', 'B X', 'B X', 'B X', 'B X', 'B X', 'B X', 'B X', 'B X', 'B X', 'B X', 'B X', 'B X', 'B X', 'B X', 'B X', 'B X', 'B X', 'B X', 'B X', 'B X', 'B X', 'B X', 'B X', 'B X', 'B X', 'B X', 'B X', 'B X', 'B X', 'B X', 'B X', 'B X', 'B X', 'B X', 'B X', 'B X', 'B X', 'B X', 'B X', 'B X', 'B X', 'B X', 'B X', 'B X', 'B X', 'B X', 'B X', 'B X', 'B X', 'B X', 'B X', 'B X', 'B X', 'B X', 'B X', 'B X', 'B X', 'B X', 'B Y', 'B Y', 'B Y', 'B Y', 'B Y', 'B Y', 'B Y', 'B Y', 'B Y', 'B Y', 'B Y', 'B Y', 'B Y', 'B Y', 'B Y', 'B Y', 'B Y', 'B Y', 'B Y', 'B Y', 'B Y', 'B Y', 'B Y', 'B Y', 'B Y', 'B Y', 'B Y', 'B Y', 'B Y', 'B Y', 'B Y', 'B Y', 'B Y', 'B Y', 'B Y', 'B Y', 'B Y', 'B Y', 'B Y', 'B Y', 'B Y', 'B Y', 'B Y', 'B Y', 'B Y', 'B Y', 'B Y', 'B Y', 'B Y', 'B Y', 'B Y', 'B Y', 'B Y', 'B Y', 'B Y', 'B Y', 'B Y', 'B Y', 'B Y', 'B Y', 'B Y', 'B Y', 'B Y', 'B Y', 'B Y', 'B Y', 'B Y', 'B Y', 'B Y', 'B Y', 'B Y', 'B Y', 'B Y', 'B Y', 'B Y', 'B Y', 'B Y', 'B Y', 'B Y', 'B Y', 'B Y', 'B Y', 'B Y', 'B Y', 'B Y', 'B Y', 'B Y', 'B Y', 'B Y', 'B Y', 'B Y', 'B Y', 'B Y', 'B Y', 'B Y', 'B Y', 'B Y', 'B Y', 'B Y', 'B Y', 'B Y', 'B Y', 'B Y', 'B Y', 'B Y', 'B Y', 'B Y', 'B Y', 'B Y', 'B Y', 'B Y', 'B Y', 'B Y', 'B Y', 'B Y', 'B Y', 'B Y', 'B Y', 'B Y', 'B Y', 'B Y', 'B Y', 'B Y', 'B Y', 'B Y', 'B Y', 'B Y', 'B Y', 'B Y', 'B Y', 'B Y', 'B Y', 'B Y', 'B Y', 'B Y', 'B Y', 'B Y', 'B Y', 'B Y', 'B Y', 'B Y', 'B Y', 'B Y', 'B Y', 'B Y', 'B Y', 'B Y', 'B Y', 'B Y', 'B Y', 'B Y', 'B Y', 'B Y', 'B Y', 'B Y', 'B Y', 'B Y', 'B Y', 'B Y', 'B Y', 'B Y', 'B Y', 'B Y', 'B Y', 'B Y', 'B Y', 'B Y', 'B Y', 'B Y', 'B Y', 'B Y', 'B Y', 'B Y', 'B Y', 'B Y', 'B Y', 'B Y', 'B Y', 'B Y', 'B Y', 'B Y', 'B Y', 'B Y', 'B Y', 'B Y', 'B Y', 'B Y', 'B Y', 'B Y', 'B Y', 'B Y', 'B Y', 'B Y', 'B Y', 'B Y', 'B Y', 'B Y', 'B Y', 'B Y', 'B Y', 'B Y', 'B Y', 'B Y', 'B Y', 'B Y', 'B Y', 'B Y', 'B Y', 'B Y', 'B Y', 'B Y', 'B Y', 'B Y', 'B Y', 'B Y', 'B Y', 'B Y', 'B Y', 'B Y', 'B Y', 'B Y', 'B Y', 'B Y', 'B Y', 'B Y', 'B Y', 'B Y', 'B Y', 'B Y', 'B Y', 'B Y', 'B Y', 'B Y', 'B Y', 'B Y', 'B Y', 'B Y', 'B Y', 'B Y', 'B Y', 'B Y', 'B Y', 'B Y', 'B Y', 'B Y', 'B Y', 'B Y', 'B Y', 'B Y', 'B Y', 'B Y', 'B Y', 'B Y', 'B Y', 'B Y', 'B Y', 'B Y', 'B Y', 'B Y', 'B Y', 'B Y', 'B Y', 'B Y', 'B Y', 'B Y', 'B Y', 'B Y', 'B Y', 'B Y', 'B Y', 'B Y', 'B Y', 'B Y', 'B Y', 'B Y', 'B Y', 'B Y', 'B Y', 'B Y', 'B Y', 'B Y', 'B Y', 'B Y', 'B Y', 'B Y', 'B Y', 'B Y', 'B Y', 'B Y', 'B Y', 'B Y', 'B Y', 'B Y', 'B Y', 'B Y', 'B Y', 'B Y', 'B Y', 'B Y', 'B Y', 'B Y', 'B Y', 'B Y', 'B Y', 'B Y', 'B Y', 'B Y', 'B Y', 'B Y', 'B Y', 'B Y', 'B Y', 'B Y', 'B Y', 'B Y', 'B Y', 'B Y', 'B Y', 'B Y', 'B Y', 'B Y', 'B Y', 'B Y', 'B Y', 'B Y', 'B Y', 'B Y', 'B Y', 'B Y', 'B Y', 'B Y', 'B Y', 'B Y', 'B Y', 'B Y', 'B Y', 'B Y', 'B Y', 'B Y', 'B Y', 'B Y', 'B Y', 'B Y', 'B Y', 'B Y', 'B Y', 'B Y', 'B Y', 'B Y', 'B Y', 'B Y', 'B Y', 'B Y', 'B Y', 'B Y', 'B Y', 'B Y', 'B Y', 'B Y', 'B Y', 'B Y', 'B Y', 'B Y', 'B Y', 'B Y', 'B Y', 'B Y', 'B Y', 'B Y', 'B Y', 'B Y', 'B Y', 'B Y', 'B Y', 'B Y', 'B Y', 'B Y', 'B Y', 'B Y', 'B Y', 'B Y', 'B Y', 'B Y', 'B Y', 'B Y', 'B Y', 'B Y', 'B Y', 'B Y', 'B Y', 'B Y', 'B Y', 'B Y', 'B Y', 'B Y', 'B Y', 'B Y', 'B Y', 'B Y', 'B Y', 'B Y', 'B Y', 'B Y', 'B Y', 'B Y', 'B Y', 'B Y', 'B Y', 'B Y', 'B Y', 'B Y', 'B Y', 'B Y', 'B Y', 'B Y', 'B Y', 'B Y', 'B Y', 'B Y', 'B Y', 'B Y', 'B Y', 'B Y', 'B Y', 'B Y', 'B Y', 'B Y', 'B Y', 'B Y', 'B Y', 'B Y', 'B Y', 'B Y', 'B Y', 'B Y', 'B Y', 'B Y', 'B Y', 'B Y', 'B Y', 'B Y', 'B Y', 'B Y', 'B Y', 'B Y', 'B Y', 'B Y', 'B Y', 'B Y', 'B Y', 'B Y', 'B Y', 'B Y', 'B Y', 'B Y', 'B Y', 'B Y', 'B Y', 'B Y', 'B Y', 'B Y', 'B Y', 'B Y', 'B Y', 'B Y', 'B Y', 'B Y', 'B Y', 'B Y', 'B Y', 'B Y', 'B Y', 'B Y', 'B Y', 'B Y', 'B Y', 'B Y', 'B Y', 'B Y', 'B Y', 'B Y', 'B Y', 'B Y', 'B Y', 'B Y', 'B Y', 'B Y', 'B Y', 'B Y', 'B Y', 'B Y', 'B Y', 'B Y', 'B Y', 'B Y', 'B Y', 'B Y', 'B Y', 'B Y', 'B Y', 'B Y', 'B Y', 'B Y', 'B Y', 'B Y', 'B Y', 'B Y', 'B Y', 'B Y', 'B Y', 'B Y', 'B Y', 'B Z', 'B Z', 'B Z', 'B Z', 'B Z', 'B Z', 'B Z', 'B Z', 'B Z', 'B Z', 'B Z', 'B Z', 'B Z', 'B Z', 'B Z', 'B Z', 'B Z', 'B Z', 'B Z', 'B Z', 'B Z', 'B Z', 'B Z', 'B Z', 'B Z', 'B Z', 'B Z', 'B Z', 'B Z', 'B Z', 'B Z', 'B Z', 'B Z', 'B Z', 'B Z', 'B Z', 'B Z', 'B Z', 'B Z', 'B Z', 'B Z', 'B Z', 'B Z', 'B Z', 'B Z', 'B Z', 'B Z', 'B Z', 'B Z', 'B Z', 'B Z', 'B Z', 'B Z', 'B Z', 'B Z', 'B Z', 'B Z', 'B Z', 'B Z', 'B Z', 'B Z', 'B Z', 'B Z', 'B Z', 'B Z', 'B Z', 'B Z', 'B Z', 'B Z', 'B Z', 'B Z', 'B Z', 'B Z', 'B Z', 'B Z', 'B Z', 'B Z', 'B Z', 'B Z', 'B Z', 'B Z', 'B Z', 'B Z', 'B Z', 'B Z', 'B Z', 'B Z', 'B Z', 'B Z', 'B Z', 'B Z', 'B Z', 'B Z', 'B Z', 'B Z', 'B Z', 'B Z', 'B Z', 'B Z', 'B Z', 'B Z', 'B Z', 'B Z', 'B Z', 'B Z', 'B Z', 'B Z', 'B Z', 'B Z', 'B Z', 'B Z', 'B Z', 'B Z', 'B Z', 'B Z', 'B Z', 'B Z', 'B Z', 'B Z', 'B Z', 'B Z', 'B Z', 'B Z', 'B Z', 'B Z', 'B Z', 'B Z', 'B Z', 'B Z', 'B Z', 'B Z', 'B Z', 'B Z', 'B Z', 'B Z', 'B Z', 'B Z', 'B Z', 'B Z', 'B Z', 'B Z', 'B Z', 'B Z', 'B Z', 'B Z', 'B Z', 'B Z', 'B Z', 'B Z', 'B Z', 'B Z', 'B Z', 'B Z', 'B Z', 'B Z', 'B Z', 'B Z', 'B Z', 'B Z', 'B Z', 'B Z', 'B Z', 'B Z', 'B Z', 'B Z', 'B Z', 'B Z', 'B Z', 'B Z', 'B Z', 'B Z', 'B Z', 'B Z', 'B Z', 'B Z', 'B Z', 'B Z', 'B Z', 'B Z', 'B Z', 'B Z', 'B Z', 'B Z', 'B Z', 'B Z', 'B Z', 'B Z', 'B Z', 'B Z', 'B Z', 'B Z', 'B Z', 'B Z', 'B Z', 'B Z', 'B Z', 'B Z', 'B Z', 'B Z', 'B Z', 'B Z', 'B Z', 'B Z', 'B Z', 'B Z', 'B Z', 'B Z', 'B Z', 'B Z', 'B Z', 'B Z', 'B Z', 'B Z', 'B Z', 'B Z', 'B Z', 'B Z', 'B Z', 'B Z', 'B Z', 'B Z', 'B Z', 'B Z', 'C X', 'C X', 'C X', 'C X', 'C X', 'C X', 'C X', 'C X', 'C X', 'C X', 'C X', 'C X', 'C X', 'C X', 'C X', 'C X', 'C X', 'C X', 'C X', 'C X', 'C X', 'C X', 'C X', 'C X', 'C X', 'C X', 'C X', 'C X', 'C X', 'C X', 'C X', 'C X', 'C X', 'C X', 'C X', 'C X', 'C X', 'C X', 'C X', 'C X', 'C X', 'C X', 'C X', 'C Y', 'C Y', 'C Y', 'C Y', 'C Y', 'C Y', 'C Y', 'C Y', 'C Y', 'C Y', 'C Y', 'C Y', 'C Y', 'C Y', 'C Y', 'C Y', 'C Y', 'C Y', 'C Y', 'C Y', 'C Y', 'C Y', 'C Y', 'C Y', 'C Y', 'C Y', 'C Y', 'C Y', 'C Y', 'C Y', 'C Y', 'C Y', 'C Y', 'C Y', 'C Y', 'C Y', 'C Y', 'C Y', 'C Y', 'C Y', 'C Y', 'C Y', 'C Y', 'C Y', 'C Y', 'C Y', 'C Y', 'C Y', 'C Y', 'C Y', 'C Y', 'C Y', 'C Y', 'C Y', 'C Y', 'C Y', 'C Y', 'C Y', 'C Y', 'C Y', 'C Y', 'C Y', 'C Y', 'C Y', 'C Y', 'C Y', 'C Y', 'C Y', 'C Y', 'C Y', 'C Y', 'C Y', 'C Y', 'C Y', 'C Y', 'C Y', 'C Y', 'C Y', 'C Y', 'C Y', 'C Y', 'C Y', 'C Y', 'C Y', 'C Y', 'C Y', 'C Y', 'C Y', 'C Y', 'C Y', 'C Y', 'C Y', 'C Y', 'C Y', 'C Y', 'C Y', 'C Y', 'C Y', 'C Y', 'C Y', 'C Y', 'C Y', 'C Y', 'C Y', 'C Y', 'C Y', 'C Y', 'C Y', 'C Y', 'C Y', 'C Y', 'C Y', 'C Y', 'C Y', 'C Y', 'C Y', 'C Y', 'C Y', 'C Y', 'C Y', 'C Y', 'C Y', 'C Y', 'C Y', 'C Y', 'C Y', 'C Y', 'C Y', 'C Y', 'C Y', 'C Y', 'C Y', 'C Y', 'C Y', 'C Y', 'C Y', 'C Y', 'C Y', 'C Y', 'C Y', 'C Y', 'C Y', 'C Y', 'C Y', 'C Y', 'C Y', 'C Y', 'C Y', 'C Y', 'C Y', 'C Y', 'C Y', 'C Y', 'C Y', 'C Y', 'C Y', 'C Y', 'C Y', 'C Y', 'C Y', 'C Y', 'C Y', 'C Y', 'C Y', 'C Y', 'C Y', 'C Y', 'C Y', 'C Y', 'C Y', 'C Y', 'C Y', 'C Y', 'C Y', 'C Y', 'C Y', 'C Y', 'C Y', 'C Y', 'C Y', 'C Y', 'C Y', 'C Y', 'C Y', 'C Y', 'C Y', 'C Y', 'C Y', 'C Y', 'C Y', 'C Y', 'C Y', 'C Y', 'C Y', 'C Y', 'C Y', 'C Y', 'C Y', 'C Y', 'C Y', 'C Y', 'C Y', 'C Y', 'C Y', 'C Y', 'C Y', 'C Y', 'C Y', 'C Y', 'C Y', 'C Y', 'C Y', 'C Y', 'C Y', 'C Y', 'C Y', 'C Y', 'C Y', 'C Y', 'C Y', 'C Y', 'C Y', 'C Y', 'C Y', 'C Y', 'C Y', 'C Y', 'C Y', 'C Y', 'C Y', 'C Y', 'C Y', 'C Y', 'C Y', 'C Y', 'C Y', 'C Y', 'C Y', 'C Y', 'C Y', 'C Y', 'C Y', 'C Y', 'C Y', 'C Y', 'C Y', 'C Y', 'C Y', 'C Y', 'C Y', 'C Y', 'C Y', 'C Y', 'C Y', 'C Y', 'C Y', 'C Y', 'C Y', 'C Y', 'C Y', 'C Y', 'C Y', 'C Y', 'C Y', 'C Y', 'C Y', 'C Y', 'C Y', 'C Y', 'C Y', 'C Y', 'C Y', 'C Y', 'C Y', 'C Y', 'C Y', 'C Y', 'C Y', 'C Y', 'C Y', 'C Y', 'C Y', 'C Y', 'C Y', 'C Y', 'C Y', 'C Y', 'C Y', 'C Y', 'C Y', 'C Y', 'C Y', 'C Y', 'C Y', 'C Y', 'C Y', 'C Y', 'C Y', 'C Y', 'C Y', 'C Y', 'C Y', 'C Y', 'C Y', 'C Y', 'C Y', 'C Y', 'C Y', 'C Y', 'C Y', 'C Y', 'C Y', 'C Y', 'C Y', 'C Y', 'C Y', 'C Y', 'C Y', 'C Y', 'C Y', 'C Y', 'C Y', 'C Y', 'C Y', 'C Y', 'C Y', 'C Y', 'C Y', 'C Y', 'C Y', 'C Y', 'C Y', 'C Y', 'C Y', 'C Y', 'C Y', 'C Y', 'C Y', 'C Y', 'C Y', 'C Y', 'C Y', 'C Y', 'C Y', 'C Y', 'C Y', 'C Y', 'C Y', 'C Y', 'C Y', 'C Y', 'C Y', 'C Y', 'C Y', 'C Y', 'C Y', 'C Y', 'C Y', 'C Y', 'C Y', 'C Y', 'C Y', 'C Y', 'C Y', 'C Y', 'C Y', 'C Y', 'C Y', 'C Y', 'C Y', 'C Y', 'C Y', 'C Y', 'C Y', 'C Y', 'C Y', 'C Y', 'C Y', 'C Y', 'C Y', 'C Y', 'C Y', 'C Y', 'C Y', 'C Y', 'C Y', 'C Y', 'C Y', 'C Y', 'C Y', 'C Y', 'C Y', 'C Y', 'C Y', 'C Y', 'C Y', 'C Y', 'C Y', 'C Y', 'C Y', 'C Y', 'C Y', 'C Y', 'C Y', 'C Y', 'C Y', 'C Y', 'C Y', 'C Y', 'C Y', 'C Y', 'C Y', 'C Y', 'C Y', 'C Y', 'C Y', 'C Y', 'C Y', 'C Y', 'C Y', 'C Y', 'C Y', 'C Y', 'C Y', 'C Y', 'C Y', 'C Y', 'C Y', 'C Y', 'C Y', 'C Y', 'C Y', 'C Y', 'C Y', 'C Y', 'C Y', 'C Y', 'C Y', 'C Y', 'C Y', 'C Y', 'C Y', 'C Y', 'C Y', 'C Y', 'C Y', 'C Y', 'C Y', 'C Y', 'C Y', 'C Y', 'C Y', 'C Y', 'C Y', 'C Y', 'C Y', 'C Y', 'C Y', 'C Y', 'C Y', 'C Y', 'C Y', 'C Y', 'C Y', 'C Y', 'C Y', 'C Y', 'C Y', 'C Y', 'C Y', 'C Y', 'C Y', 'C Y', 'C Y', 'C Y', 'C Y', 'C Y', 'C Y', 'C Y', 'C Y', 'C Y', 'C Y', 'C Y', 'C Y', 'C Y', 'C Y', 'C Y', 'C Y', 'C Y', 'C Y', 'C Y', 'C Y', 'C Y', 'C Y', 'C Y', 'C Y', 'C Y', 'C Y', 'C Y', 'C Y', 'C Y', 'C Y', 'C Y', 'C Y', 'C Y', 'C Y', 'C Y', 'C Y', 'C Y', 'C Y', 'C Y', 'C Y', 'C Y', 'C Y', 'C Y', 'C Y', 'C Y', 'C Y', 'C Y', 'C Y', 'C Y', 'C Y', 'C Y', 'C Y', 'C Y', 'C Y', 'C Y', 'C Y', 'C Y', 'C Y', 'C Y', 'C Y', 'C Y', 'C Y', 'C Y', 'C Y', 'C Y', 'C Y', 'C Y', 'C Y', 'C Y', 'C Y', 'C Y', 'C Y', 'C Y', 'C Y', 'C Y', 'C Y', 'C Y', 'C Y', 'C Y', 'C Y', 'C Y', 'C Y', 'C Y', 'C Y', 'C Y', 'C Y', 'C Y', 'C Y', 'C Y', 'C Y', 'C Z', 'C Z', 'C Z', 'C Z', 'C Z', 'C Z', 'C Z', 'C Z', 'C Z', 'C Z', 'C Z', 'C Z', 'C Z', 'C Z', 'C Z', 'C Z', 'C Z', 'C Z', 'C Z', 'C Z', 'C Z', 'C Z', 'C Z', 'C Z', 'C Z', 'C Z', 'C Z', 'C Z', 'C Z', 'C Z', 'C Z', 'C Z', 'C Z', 'C Z', 'C Z', 'C Z', 'C Z', 'C Z', 'C Z', 'C Z', 'C Z', 'C Z', 'C Z', 'C Z', 'C Z', 'C Z', 'C Z', 'C Z', 'C Z', 'C Z', 'C Z', 'C Z', 'C Z', 'C Z', 'C Z', 'C Z', 'C Z', 'C Z', 'C Z', 'C Z', 'C Z', 'C Z', 'C Z', 'C Z', 'C Z', 'C Z', 'C Z', 'C Z', 'C Z', 'C Z', 'C Z', 'C Z', 'C Z', 'C Z', 'C Z', 'C Z', 'C Z', 'C Z', 'C Z', 'C Z', 'C Z', 'C Z', 'C Z', 'C Z', 'C Z', 'C Z', 'C Z', 'C Z', 'C Z', 'C Z', 'C Z', 'C Z', 'C Z', 'C Z', 'C Z', 'C Z', 'C Z', 'C Z', 'C Z', 'C Z', 'C Z', 'C Z', 'C Z', 'C Z', 'C Z', 'C Z', 'C Z', 'C Z', 'C Z', 'C Z', 'C Z', 'C Z', 'C Z', 'C Z', 'C Z', 'C Z', 'C Z', 'C Z', 'C Z', 'C Z', 'C Z', 'C Z', 'C Z', 'C Z', 'C Z', 'C Z', 'C Z', 'C Z', 'C Z', 'C Z', 'C Z', 'C Z', 'C Z', 'C Z', 'C Z', 'C Z', 'C Z', 'C Z', 'C Z', 'C Z', 'C Z', 'C Z', 'C Z', 'C Z', 'C Z', 'C Z', 'C Z', 'C Z', 'C Z', 'C Z', 'C Z', 'C Z', 'C Z', 'C Z', 'C Z', 'C Z', 'C Z', 'C Z', 'C Z', 'C Z', 'C Z', 'C Z', 'C Z', 'C Z', 'C Z', 'C Z', 'C Z', 'C Z', 'C Z', 'C Z', 'C Z', 'C Z', 'C Z', 'C Z', 'C Z', 'C Z', 'C Z', 'C Z', 'C Z', 'C Z', 'C Z', 'C Z', 'C Z', 'C Z', 'C Z', 'C Z', 'C Z', 'C Z', 'C Z', 'C Z', 'C Z', 'C Z', 'C Z', 'C Z', 'C Z', 'C Z', 'C Z', 'C Z', 'C Z', 'C Z', 'C Z', 'C Z', 'C Z', 'C Z', 'C Z', 'C Z', 'C Z', 'C Z', 'C Z', 'C Z', 'C Z', 'C Z', 'C Z', 'C Z', 'C Z', 'C Z', 'C Z', 'C Z', 'C Z', 'C Z', 'C Z', 'C Z', 'C Z', 'C Z', 'C Z', 'C Z', 'C Z', 'C Z', 'C Z', 'C Z', 'C Z', 'C Z', 'C Z', 'C Z', 'C Z', 'C Z', 'C Z', 'C Z', 'C Z', 'C Z', 'C Z', 'C Z', 'C Z', 'C Z', 'C Z', 'C Z', 'C Z', 'C Z', 'C Z', 'C Z', 'C Z', 'C Z', 'C Z', 'C Z', 'C Z', 'C Z', 'C Z', 'C Z', 'C Z', 'C Z', 'C Z', 'C Z', 'C Z', 'C Z', 'C Z', 'C Z', 'C Z', 'C Z', 'C Z', 'C Z', 'C Z', 'C Z', 'C Z', 'C Z', 'C Z', 'C Z', 'C Z', 'C Z', 'C Z', 'C Z', 'C Z', 'C Z', 'C Z', 'C Z', 'C Z', 'C Z', 'C Z', 'C Z', 'C Z', 'C Z', 'C Z', 'C Z', 'C Z', 'C Z', 'C Z', 'C Z', 'C Z', 'C Z', 'C Z', 'C Z', 'C Z', 'C Z', 'C Z', 'C Z', 'C Z', 'C Z', 'C Z', 'C Z', 'C Z', 'C Z', 'C Z', 'C Z', 'C Z', 'C Z', 'C Z', 'C Z', 'C Z', 'C Z', 'C Z', 'C Z', 'C Z', 'C Z', 'C Z', 'C Z', 'C Z', 'C Z', 'C Z', 'C Z', 'C Z', 'C Z', 'C Z', 'C Z', 'C Z', 'C Z', 'C Z', 'C Z', 'C Z', 'C Z', 'C Z', 'C Z', 'C Z', 'C Z', 'C Z', 'C Z', 'C Z', 'C Z', 'C Z', 'C Z', 'C Z', 'C Z', 'C Z', 'C Z', 'C Z', 'C Z', 'C Z', 'C Z', 'C Z', 'C Z', 'C Z', 'C Z', 'C Z', 'C Z', 'C Z', 'C Z', 'C Z', 'C Z', 'C Z', 'C Z', 'C Z', 'C Z', 'C Z', 'C Z', 'C Z', 'C Z', 'C Z', 'C Z', 'C Z', 'C Z', 'C Z', 'C Z', 'C Z', 'C Z', 'C Z', 'C Z', 'C Z', 'C Z', 'C Z', 'C Z', 'C Z', 'C Z', 'C Z', 'C Z', 'C Z', 'C Z', 'C Z', 'C Z', 'C Z', 'C Z', 'C Z', 'C Z', 'C Z', 'C Z', 'C Z', 'C Z', 'C Z', 'C Z', 'C Z', 'C Z', 'C Z', 'C Z', 'C Z', 'C Z', 'C Z', 'C Z', 'C Z', 'C Z', 'C Z', 'C Z', 'C Z', 'C Z', 'C Z', 'C Z', 'C Z', 'C Z', 'C Z', 'C Z', 'C Z', 'C Z', 'C Z', 'C Z', 'C Z', 'C Z', 'C Z', 'C Z', 'C Z', 'C Z', 'C Z', 'C Z', 'C Z', 'C Z', 'C Z', 'C Z', 'C Z', 'C Z', 'C Z', 'C Z', 'C Z', 'C Z', 'C Z', 'C Z', 'C Z', 'C Z', 'C Z', 'C Z', 'C Z', 'C Z', 'C Z', 'C Z', 'C Z', 'C Z', 'C Z', 'C Z', 'C Z', 'C Z', 'C Z', 'C Z', 'C Z', 'C Z', 'C Z', 'C Z', 'C Z', 'C Z', 'C Z', 'C Z', 'C Z', 'C Z', 'C Z', 'C Z', 'C Z', 'C Z', 'C Z', 'C Z', 'C Z', 'C Z', 'C Z', 'C Z', 'C Z', 'C Z', 'C Z', 'C Z', 'C Z', 'C Z', 'C Z', 'C Z', 'C Z', 'C Z', 'C Z', 'C Z', 'C Z', 'C Z', 'C Z', 'C Z', 'C Z', 'C Z', 'C Z', 'C Z', 'C Z', 'C Z', 'C Z', 'C Z', 'C Z', 'C Z', 'C Z', 'C Z', 'C Z', 'C Z', 'C Z', 'C Z', 'C Z', 'C Z', 'C Z', 'C Z', 'C Z', 'C Z', 'C Z', 'C Z', 'C Z', 'C Z', 'C Z', 'C Z', 'C Z', 'C Z', 'C Z', 'C Z', 'C Z', 'C Z']\n",
            "The total score is: 13600\n"
          ]
        }
      ]
    },
    {
      "cell_type": "markdown",
      "source": [
        "--- Part Two ---\n",
        "\n",
        "The Elf finishes helping with the tent and sneaks back over to you. \"Anyway, the second column says how the round needs to end: X means you need to lose, Y means you need to end the round in a draw, and Z means you need to win. Good luck!\"\n",
        "\n",
        "The total score is still calculated in the same way, but now you need to figure out what shape to choose so the round ends as indicated. The example above now goes like this:\n",
        "\n",
        "    In the first round, your opponent will choose Rock (A), and you need the round to end in a draw (Y), so you also choose Rock. This gives you a score of 1 + 3 = 4.\n",
        "    In the second round, your opponent will choose Paper (B), and you choose Rock so you lose (X) with a score of 1 + 0 = 1.\n",
        "    In the third round, you will defeat your opponent's Scissors with Rock for a score of 1 + 6 = 7.\n",
        "\n",
        "Now that you're correctly decrypting the ultra top secret strategy guide, you would get a total score of 12.\n",
        "\n",
        "Following the Elf's instructions for the second column, what would your total score be if everything goes exactly according to your strategy guide?\n"
      ],
      "metadata": {
        "id": "GNI1laoeXbUr"
      }
    },
    {
      "cell_type": "code",
      "source": [
        "def part_Two(data):\n",
        "  total_score = 0\n",
        "  plays = data.split(\"\\n\")\n",
        "  plays.sort()\n",
        "  print(plays)\n",
        "  for i in range(len(plays)):\n",
        "    enemy = plays[i][0]\n",
        "    player = plays[i][2]\n",
        "\n",
        "    #Enemy Rock\n",
        "    if enemy == 'A':\n",
        "      if player == 'X':\n",
        "        #Lose\n",
        "        total_score += 3\n",
        "        total_score += 0\n",
        "      if player == 'Y':\n",
        "        #Draw\n",
        "        total_score += 1\n",
        "        total_score += 3\n",
        "      if player == 'Z':\n",
        "        #Win\n",
        "        total_score += 2\n",
        "        total_score += 6\n",
        "    \n",
        "    #Enemy Paper\n",
        "    if enemy == 'B':\n",
        "      if player == 'X':\n",
        "        #Lose\n",
        "        total_score += 1\n",
        "        total_score += 0\n",
        "      if player == 'Y':\n",
        "        #Draw\n",
        "        total_score += 2\n",
        "        total_score += 3\n",
        "      if player == 'Z':\n",
        "        #Win\n",
        "        total_score += 3\n",
        "        total_score += 6\n",
        "\n",
        "    #Enemy Scissors\n",
        "    if enemy == 'C':\n",
        "      if player == 'X':\n",
        "        #Lose\n",
        "        total_score += 2\n",
        "        total_score += 0\n",
        "      if player == 'Y':\n",
        "        #Draw\n",
        "        total_score += 3\n",
        "        total_score += 3\n",
        "      if player == 'Z':\n",
        "        #Win\n",
        "        total_score += 1\n",
        "        total_score += 6\n",
        "  \n",
        "  return total_score"
      ],
      "metadata": {
        "id": "UxW_NhwmOrJW"
      },
      "execution_count": 17,
      "outputs": []
    }
  ]
}